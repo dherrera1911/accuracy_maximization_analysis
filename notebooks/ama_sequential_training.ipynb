{
 "cells": [
  {
   "cell_type": "markdown",
   "id": "3aa588fb",
   "metadata": {},
   "source": [
    "#Disparity estimation and filter training in pairs\n",
    "\n",
    "Train AMA on the task of disparity estimation. Train two\n",
    "pairs of filters, one after the other (first the model\n",
    "with 2 filters, and then the model with 4 filters)"
   ]
  },
  {
   "cell_type": "code",
   "execution_count": null,
   "id": "7746ceff",
   "metadata": {
    "collapsed": false
   },
   "outputs": [],
   "source": [
    "##############\n",
    "#### IMPORT PACKAGES\n",
    "##############\n",
    "import scipy.io as spio\n",
    "import numpy as np\n",
    "import torch\n",
    "import matplotlib.pyplot as plt\n",
    "import torch.nn as nn\n",
    "import torch.nn.functional as F\n",
    "from torch.utils.data import TensorDataset, DataLoader"
   ]
  },
  {
   "cell_type": "code",
   "execution_count": null,
   "id": "eff3d06a",
   "metadata": {
    "collapsed": false
   },
   "outputs": [],
   "source": [
    "##### COMMENT THIS CELL WHEN USING GOOGLE COLAB\n",
    "#from ama_library import *"
   ]
  },
  {
   "cell_type": "code",
   "execution_count": null,
   "id": "3af5f76c",
   "metadata": {
    "collapsed": false
   },
   "outputs": [],
   "source": [
    "#### UNCOMMENT THIS CELL FOR GOOGLE COLAB EXECUTION\n",
    "!pip install geotorch\n",
    "import geotorch\n",
    "!pip install git+https://github.com/dherrera1911/accuracy_maximization_analysis.git\n",
    "from ama_library import *\n",
    "!mkdir data\n",
    "!wget -O ./data/AMAdataDisparity.mat https://github.com/burgelab/AMA/blob/master/AMAdataDisparity.mat?raw=true"
   ]
  },
  {
   "cell_type": "code",
   "execution_count": null,
   "id": "921f158f",
   "metadata": {
    "collapsed": false
   },
   "outputs": [],
   "source": [
    "##############\n",
    "#### LOAD AMA DATA\n",
    "##############\n",
    "# Load ama struct from .mat file into Python\n",
    "data = spio.loadmat('./data/AMAdataDisparity.mat')\n",
    "# Extract contrast normalized, noisy stimulus\n",
    "s = data.get(\"s\")\n",
    "s = torch.from_numpy(s)\n",
    "s = s.transpose(0,1)\n",
    "s = s.float()\n",
    "# Extract the vector indicating category of each stimulus row\n",
    "ctgInd = data.get(\"ctgInd\")\n",
    "ctgInd = torch.tensor(ctgInd)\n",
    "ctgInd = ctgInd.flatten()\n",
    "ctgInd = ctgInd-1       # convert to python indexing (subtract 1)\n",
    "ctgInd = ctgInd.type(torch.LongTensor)  # convert to torch integer\n",
    "# Extract the values of the latent variable\n",
    "ctgVal = data.get(\"X\")\n",
    "ctgVal = torch.from_numpy(ctgVal)\n",
    "ctgVal = ctgVal.flatten()\n",
    "nPixels = int(s.shape[1]/2)\n",
    "# Extract Matlab trained filters\n",
    "fOri = data.get(\"f\")\n",
    "fOri = torch.from_numpy(fOri)\n",
    "fOri = fOri.transpose(0,1)\n",
    "fOri = fOri.float()\n",
    "# Extract original noise parameters\n",
    "filterSigmaOri = data.get(\"var0\").flatten()\n",
    "maxRespOri = data.get(\"rMax\").flatten()"
   ]
  },
  {
   "cell_type": "markdown",
   "id": "05f12381",
   "metadata": {},
   "source": [
    "## TRAINING 2 PAIRS OF FILTERS WITHOUT FIXING ANY\n",
    "\n",
    "In this part of the code, we train the model with 2 filters,\n",
    "then add 2 new random filters, and continue training the\n",
    "4 filters together. We want to see whether the first 2 filters\n",
    "remain fixed through the second round of training."
   ]
  },
  {
   "cell_type": "code",
   "execution_count": null,
   "id": "608ed301",
   "metadata": {
    "collapsed": false
   },
   "outputs": [],
   "source": [
    "##############\n",
    "#### SET TRAINING PARAMETERS FOR FIRST PAIR OF FILTERS\n",
    "##############\n",
    "nFilt = 2   # Number of filters to use\n",
    "filterSigma = float(filterSigmaOri / maxRespOri**2)  # Variance of filter responses\n",
    "nEpochs = 20\n",
    "lrGamma = 0.5   # multiplication factor for lr decay\n",
    "#lossFun = nn.CrossEntropyLoss()\n",
    "lossFun = cross_entropy_loss()\n",
    "learningRate = 0.01\n",
    "lrStepSize = 10\n",
    "batchSize = 256"
   ]
  },
  {
   "cell_type": "code",
   "execution_count": null,
   "id": "1f1aed22",
   "metadata": {
    "collapsed": false
   },
   "outputs": [],
   "source": [
    "##############\n",
    "####  TRAIN FIRST PAIR OF FILTERS\n",
    "##############\n",
    "\n",
    "# Define model\n",
    "amaPy = AMA(sAll=s, nFilt=nFilt, ctgInd=ctgInd, filterSigma=filterSigma,\n",
    "        ctgVal=ctgVal)\n",
    "\n",
    "# Put data into Torch data loader tools\n",
    "trainDataset = TensorDataset(s, ctgInd)\n",
    "# Batch loading and other utilities \n",
    "trainDataLoader = DataLoader(trainDataset, batch_size=batchSize,\n",
    "        shuffle=True)\n",
    "# Set up optimizer\n",
    "opt = torch.optim.Adam(amaPy.parameters(), lr=learningRate)  # Adam\n",
    "# Make learning rate scheduler\n",
    "scheduler = torch.optim.lr_scheduler.StepLR(opt, step_size=lrStepSize, gamma=lrGamma)"
   ]
  },
  {
   "cell_type": "code",
   "execution_count": null,
   "id": "8758661e",
   "metadata": {
    "collapsed": false
   },
   "outputs": [],
   "source": [
    "# fit model\n",
    "loss, elapsedTimes = fit(nEpochs=nEpochs, model=amaPy,\n",
    "        trainDataLoader=trainDataLoader, lossFun=lossFun, opt=opt,\n",
    "        scheduler=scheduler)\n",
    "plt.plot(elapsedTimes, loss)\n",
    "plt.show()"
   ]
  },
  {
   "cell_type": "code",
   "execution_count": null,
   "id": "b06b8288",
   "metadata": {
    "collapsed": false
   },
   "outputs": [],
   "source": [
    "## PLOT THE LEARNED FILTERS\n",
    "x = np.linspace(start=-30, stop=30, num=amaPy.nDim) # x axis in arc min\n",
    "view_all_filters_bino(amaPy, x=x)\n",
    "#plt.show()"
   ]
  },
  {
   "cell_type": "code",
   "execution_count": null,
   "id": "983aa0f2",
   "metadata": {
    "collapsed": false
   },
   "outputs": [],
   "source": [
    "## ADD 2 NEW FILTERS\n",
    "amaPy.add_new_filters(nFiltNew=2)\n",
    "\n",
    "# Plot the set of 4 filters before re-training\n",
    "view_all_filters_bino(amaPy, x=x)\n",
    "plt.show()"
   ]
  },
  {
   "cell_type": "code",
   "execution_count": null,
   "id": "adba600f",
   "metadata": {
    "collapsed": false
   },
   "outputs": [],
   "source": [
    "## TRAIN THE NEW FILTERS TOGETHER WITH ORIGINAL\n",
    "learningRate2 = learningRate * 1/3\n",
    "nEpochs2 = 30\n",
    "# Re-initializing the optimizer after adding filters is required\n",
    "opt = torch.optim.Adam(amaPy.parameters(), lr=learningRate2)  # Adam\n",
    "scheduler = optim.lr_scheduler.StepLR(opt, step_size=lrStepSize,\n",
    "        gamma=lrGamma)\n",
    "loss, elapsedTimes = fit(nEpochs=nEpochs2, model=amaPy,\n",
    "        trainDataLoader=trainDataLoader, lossFun=lossFun, opt=opt,\n",
    "        scheduler=scheduler)\n",
    "plt.plot(elapsedTimes, loss)\n",
    "plt.show()\n",
    "\n",
    "# Plot filters after learning\n",
    "view_all_filters_bino(amaPy, x=x)\n",
    "plt.show()"
   ]
  },
  {
   "cell_type": "markdown",
   "id": "f0e35998",
   "metadata": {},
   "source": [
    "## TRAINING 2 PAIRS OF FILTERS, FIXING THE FIRST PAIR\n",
    "\n",
    "In this part of the code, we train the model with 2 filters,\n",
    "fix these filters so that they are no longer trainable, add\n",
    "2 more filters, and then train these 2 new filters on top of\n",
    "the original fixed ones. We aim to see how this procedure compares\n",
    "to the training of different filters without fixing."
   ]
  },
  {
   "cell_type": "code",
   "execution_count": null,
   "id": "db2100c4",
   "metadata": {
    "collapsed": false
   },
   "outputs": [],
   "source": [
    "# DEFINE NEW MODEL TO TRAIN\n",
    "amaPy2 = AMA(sAll=s, nFilt=nFilt, ctgInd=ctgInd, filterSigma=filterSigma,\n",
    "        ctgVal=ctgVal)"
   ]
  },
  {
   "cell_type": "code",
   "execution_count": null,
   "id": "45efcf25",
   "metadata": {
    "collapsed": false
   },
   "outputs": [],
   "source": [
    "# SET PARAMETERS FOR TRAINING THE FILTERS. INITIALIZE OPTIMIZER\n",
    "nEpochs = 40\n",
    "lrGamma = 0.5   # multiplication factor for lr decay\n",
    "learningRate = 0.01\n",
    "lrStepSize = 10\n",
    "batchSize = 256\n",
    "# Set up optimizer\n",
    "opt = torch.optim.Adam(amaPy2.parameters(), lr=learningRate)  # Adam\n",
    "# Make learning rate scheduler\n",
    "scheduler = optim.lr_scheduler.StepLR(opt, step_size=lrStepSize,\n",
    "        gamma=lrGamma)"
   ]
  },
  {
   "cell_type": "code",
   "execution_count": null,
   "id": "ff88e090",
   "metadata": {
    "collapsed": false
   },
   "outputs": [],
   "source": [
    "# FIT MODEL\n",
    "loss, elapsedTimes = fit(nEpochs=nEpochs, model=amaPy2,\n",
    "        trainDataLoader=trainDataLoader, lossFun=lossFun, opt=opt,\n",
    "        scheduler=scheduler)\n",
    "plt.plot(elapsedTimes, loss)\n",
    "plt.show()\n",
    "\n",
    "view_all_filters_bino(amaPy2, x)\n",
    "plt.show()"
   ]
  },
  {
   "cell_type": "code",
   "execution_count": null,
   "id": "d211078b",
   "metadata": {
    "collapsed": false
   },
   "outputs": [],
   "source": [
    "# ADD FIXED FILTERS\n",
    "# Fix the learned filters in place\n",
    "amaPy2.add_fixed_filters(amaPy2.f.detach().clone())\n",
    "# Re-initialize trainable filters\n",
    "amaPy2.reinitialize_trainable()\n",
    "# View current filters\n",
    "view_all_filters_bino(amaPy2, x)\n",
    "plt.show()"
   ]
  },
  {
   "cell_type": "code",
   "execution_count": null,
   "id": "e1318eff",
   "metadata": {
    "collapsed": false
   },
   "outputs": [],
   "source": [
    "# TRAIN THE NEW FILTERS WITH THE OLD FILTERS FIXED IN PLACE\n",
    "# Set up optimizer\n",
    "opt = torch.optim.Adam(amaPy2.parameters(), lr=learningRate)  # Adam\n",
    "# Make learning rate scheduler\n",
    "scheduler = optim.lr_scheduler.StepLR(opt, step_size=lrStepSize,\n",
    "        gamma=lrGamma)\n",
    "# fit model\n",
    "loss, elapsedTimes = fit(nEpochs=nEpochs, model=amaPy2,\n",
    "        trainDataLoader=trainDataLoader, lossFun=lossFun, opt=opt,\n",
    "        scheduler=scheduler)\n",
    "plt.plot(elapsedTimes, loss)\n",
    "plt.show()\n",
    "view_all_filters_bino(amaPy2)\n",
    "plt.show()"
   ]
  },
  {
   "cell_type": "code",
   "execution_count": null,
   "id": "bd8f443a",
   "metadata": {
    "collapsed": false
   },
   "outputs": [],
   "source": [
    "# USE FUNCTION THAT TRAINS AMA FILTERS BY PAIRS\n",
    "nPairs = 4\n",
    "# We need to define a function that returns optimizers, because\n",
    "# a new optimizer has to be generated each time we manually change\n",
    "# the model parameters\n",
    "def opt_fun(model):\n",
    "    return torch.optim.Adam(model.parameters(), lr=learningRate)\n",
    "# We need to define a function that returns schedulers, because a\n",
    "# new one has to be defined for each new optimizer\n",
    "def scheduler_fun(opt):\n",
    "    return optim.lr_scheduler.StepLR(opt, step_size=lrStepSize, gamma=lrGamma)\n",
    "\n",
    "# Initialize model to train\n",
    "amaPy3 = AMA(sAll=s, nFilt=nFilt, ctgInd=ctgInd, filterSigma=filterSigma,\n",
    "        ctgVal=ctgVal)"
   ]
  },
  {
   "cell_type": "code",
   "execution_count": null,
   "id": "6f53d122",
   "metadata": {
    "collapsed": false
   },
   "outputs": [],
   "source": [
    "# Train model by pairs\n",
    "loss3, elapsedTimes3 = fit_by_pairs(nEpochs=nEpochs, model=amaPy3,\n",
    "        trainDataLoader=trainDataLoader, lossFun=lossFun, opt_fun=opt_fun,\n",
    "        nPairs=nPairs, scheduler_fun=scheduler_fun)"
   ]
  },
  {
   "cell_type": "code",
   "execution_count": null,
   "id": "a4939bd4",
   "metadata": {
    "collapsed": false
   },
   "outputs": [],
   "source": [
    "# Visualize trained filters\n",
    "view_all_filters_bino(amaPy3)\n",
    "plt.show()"
   ]
  },
  {
   "cell_type": "code",
   "execution_count": null,
   "id": "8e0717c5",
   "metadata": {
    "collapsed": false
   },
   "outputs": [],
   "source": [
    "# View the training loss curves for the learned filters\n",
    "for l in range(nPairs):\n",
    "    plt.subplot(1, nPairs, l+1)\n",
    "    plt.plot(elapsedTimes3[l], loss3[l])\n",
    "plt.show()"
   ]
  },
  {
   "cell_type": "code",
   "execution_count": null,
   "id": "d66034ef",
   "metadata": {
    "collapsed": false
   },
   "outputs": [],
   "source": [
    "# Visualize MATLAB AMA filters\n",
    "for n in range(fOri.shape[0]):\n",
    "    plt.subplot(2,2,n+1)\n",
    "    view_filters_bino(fOri[n,:])\n",
    "plt.show()"
   ]
  }
 ],
 "metadata": {},
 "nbformat": 4,
 "nbformat_minor": 5
}
