{
 "cells": [
  {
   "cell_type": "markdown",
   "id": "83c3f543",
   "metadata": {},
   "source": [
    "# Geometrical analysis of disparity estimation statistics\n",
    "\n",
    "Train AMA on the task of disparity estimation. Analyze the\n",
    "distances and angles between the covariance matrices of\n",
    "each class, in the manifold of symmetric positive definite matrices"
   ]
  },
  {
   "cell_type": "code",
   "execution_count": null,
   "id": "63a6f23f",
   "metadata": {
    "collapsed": false
   },
   "outputs": [],
   "source": [
    "##############\n",
    "#### IMPORT PACKAGES\n",
    "##############\n",
    "import scipy.io as spio\n",
    "import numpy as np\n",
    "import torch\n",
    "import matplotlib.pyplot as plt\n",
    "import torch.nn as nn\n",
    "import torch.nn.functional as F\n",
    "from torch.utils.data import TensorDataset, DataLoader"
   ]
  },
  {
   "cell_type": "code",
   "execution_count": null,
   "id": "e7fb7a8e",
   "metadata": {
    "collapsed": false
   },
   "outputs": [],
   "source": [
    "##### COMMENT THIS CELL WHEN USING GOOGLE COLAB\n",
    "#from ama_library import *\n",
    "#import pymanopt as pm"
   ]
  },
  {
   "cell_type": "code",
   "execution_count": null,
   "id": "0b667316",
   "metadata": {
    "collapsed": false
   },
   "outputs": [],
   "source": [
    "#### UNCOMMENT THIS CELL FOR GOOGLE COLAB EXECUTION\n",
    "!pip install geotorch\n",
    "import geotorch\n",
    "!pip install pymanopt\n",
    "import pymanopt as pm\n",
    "!pip install git+https://github.com/dherrera1911/accuracy_maximization_analysis.git\n",
    "from ama_library import *\n",
    "!mkdir data\n",
    "!wget -O ./data/AMAdataDisparity.mat https://github.com/burgelab/AMA/blob/master/AMAdataDisparity.mat?raw=true"
   ]
  },
  {
   "cell_type": "code",
   "execution_count": null,
   "id": "7d4c0fe2",
   "metadata": {
    "collapsed": false
   },
   "outputs": [],
   "source": [
    "##############\n",
    "#### LOAD AMA DATA\n",
    "##############\n",
    "# Load ama struct from .mat file into Python\n",
    "data = spio.loadmat('./data/AMAdataDisparity.mat')\n",
    "# Extract contrast normalized, noisy stimulus\n",
    "s = data.get(\"s\")\n",
    "s = torch.from_numpy(s)\n",
    "s = s.transpose(0,1)\n",
    "s = s.float()\n",
    "# Extract the vector indicating category of each stimulus row\n",
    "ctgInd = data.get(\"ctgInd\")\n",
    "ctgInd = torch.tensor(ctgInd)\n",
    "ctgInd = ctgInd.flatten()\n",
    "ctgInd = ctgInd-1       # convert to python indexing (subtract 1)\n",
    "ctgInd = ctgInd.type(torch.LongTensor)  # convert to torch integer\n",
    "# Extract the values of the latent variable\n",
    "ctgVal = data.get(\"X\")\n",
    "ctgVal = torch.from_numpy(ctgVal)\n",
    "ctgVal = ctgVal.flatten()\n",
    "nPixels = int(s.shape[1]/2)\n",
    "# Extract original noise parameters\n",
    "filterSigmaOri = data.get(\"var0\").flatten()\n",
    "maxRespOri = data.get(\"rMax\").flatten()"
   ]
  },
  {
   "cell_type": "code",
   "execution_count": null,
   "id": "efb48a47",
   "metadata": {
    "collapsed": false
   },
   "outputs": [],
   "source": [
    "##############\n",
    "#### SET TRAINING PARAMETERS\n",
    "##############\n",
    "nFilt = 2   # Number of filters to use\n",
    "filterSigma = float(filterSigmaOri / maxRespOri**2)  # Variance of filter responses\n",
    "nEpochs = 20\n",
    "lrGamma = 0.3   # multiplication factor for lr decay\n",
    "lossFun = nn.CrossEntropyLoss()\n",
    "learningRate = 0.01\n",
    "lrStepSize = 10\n",
    "batchSize = 256"
   ]
  },
  {
   "cell_type": "code",
   "execution_count": null,
   "id": "9fa87f1e",
   "metadata": {
    "collapsed": false
   },
   "outputs": [],
   "source": [
    "##############\n",
    "####  TRAIN THE MODEL\n",
    "##############\n",
    "\n",
    "# Define model\n",
    "amaPy = AMA(sAll=s, nFilt=nFilt, ctgInd=ctgInd, filterSigma=filterSigma,\n",
    "        ctgVal=ctgVal)\n",
    "\n",
    "# Extract the initial random response covariances\n",
    "randomRespCovs = amaPy.respCovs.detach().numpy()\n",
    "fRandom = amaPy.f.detach().clone().numpy()\n",
    "\n",
    "# Put data into Torch data loader tools\n",
    "trainDataset = TensorDataset(s, ctgInd)\n",
    "# Batch loading and other utilities \n",
    "trainDataLoader = DataLoader(trainDataset, batch_size=batchSize,\n",
    "        shuffle=True)\n",
    "# Set up optimizer\n",
    "opt = torch.optim.Adam(amaPy.parameters(), lr=learningRate)  # Adam\n",
    "# Make learning rate scheduler\n",
    "scheduler = optim.lr_scheduler.StepLR(opt, step_size=lrStepSize,\n",
    "        gamma=lrGamma)"
   ]
  },
  {
   "cell_type": "code",
   "execution_count": null,
   "id": "31ff4f55",
   "metadata": {
    "collapsed": false
   },
   "outputs": [],
   "source": [
    "# fit model to data\n",
    "loss, elapsedTimes = fit(nEpochs=nEpochs, model=amaPy,\n",
    "        trainDataLoader=trainDataLoader, lossFun=lossFun, opt=opt,\n",
    "        scheduler=scheduler)\n",
    "plt.plot(elapsedTimes, loss)\n",
    "plt.show()\n",
    "\n",
    "# Extract response covariances for trained filters\n",
    "respCovs = amaPy.respCovs.detach().numpy()\n",
    "fLearned = amaPy.f.detach().clone().numpy()"
   ]
  },
  {
   "cell_type": "code",
   "execution_count": null,
   "id": "d43f6c3d",
   "metadata": {
    "collapsed": false
   },
   "outputs": [],
   "source": [
    "##############\n",
    "#### GET COVARIANCE MATRICES OF PCA FILTER RESPONSES\n",
    "##############\n",
    "# Reduce dimansionality of stimulus covs so they are not singular\n",
    "pcaDim = nFilt\n",
    "stimCovs = amaPy.stimCovs.detach()\n",
    "u, a, fPCA = np.linalg.svd(s)\n",
    "fPCA = torch.from_numpy(fPCA[0:pcaDim,:])\n",
    "pcaCovs = torch.einsum('fd,jdb,gb->jfg', fPCA, stimCovs, fPCA)\n",
    "pcaCovs = pcaCovs.numpy()"
   ]
  },
  {
   "cell_type": "code",
   "execution_count": null,
   "id": "a5be9e22",
   "metadata": {
    "collapsed": false
   },
   "outputs": [],
   "source": [
    "###########\n",
    "### MANIFOLD ANALYSIS\n",
    "###########\n",
    "# Initialize manifold structures to analyze geometry\n",
    "# SPDM\n",
    "manifold = pm.manifolds.positive_definite.SymmetricPositiveDefinite(amaPy.nFilt, k=1)\n",
    "# PSDM\n",
    "#manifold = pm.manifolds.psd.PSDFixedRank(amaPy.nFilt, k=2)"
   ]
  },
  {
   "cell_type": "code",
   "execution_count": null,
   "id": "dbdb4daf",
   "metadata": {
    "collapsed": false
   },
   "outputs": [],
   "source": [
    "### Compute distances between classes\n",
    "respCovDist = np.zeros(amaPy.nClasses-1)\n",
    "respRandomCovDist = np.zeros(amaPy.nClasses-1)\n",
    "stimCovDist = np.zeros(amaPy.nClasses-1)\n",
    "for c in range(amaPy.nClasses-1):\n",
    "    respCovDist[c] = manifold.dist(respCovs[c,:,:], respCovs[c+1,:,:])\n",
    "    respRandomCovDist[c] = manifold.dist(randomRespCovs[c,:,:], randomRespCovs[c+1,:,:])\n",
    "    stimCovDist[c] = manifold.dist(pcaCovs[c,:,:], pcaCovs[c+1,:,:])\n",
    "\n",
    "ymaxDist = np.max([respRandomCovDist, respCovDist, stimCovDist])"
   ]
  },
  {
   "cell_type": "code",
   "execution_count": null,
   "id": "67b6e533",
   "metadata": {
    "collapsed": false
   },
   "outputs": [],
   "source": [
    "# Define function to compute angles formed by each matrix with its 2 neighbors\n",
    "def compute_angles(inputMat, inputMan):\n",
    "    angleVec = np.zeros(inputMat.shape[0]-2)\n",
    "    for c in range(inputMat.shape[0]-2):\n",
    "        pointCenter = inputMat[c+1,:,:]\n",
    "        pointPrev = inputMat[c,:,:]\n",
    "        pointNext = inputMat[c+2,:,:]\n",
    "        # Get the vectors between a point and its two adjacent points\n",
    "        tangentVec1 = inputMan.to_tangent_space(pointCenter, pointPrev - pointCenter)\n",
    "        normVec1 = inputMan.norm(pointCenter, tangentVec1)\n",
    "        tangentVec2 = inputMan.to_tangent_space(pointCenter, pointCenter - pointNext)\n",
    "        normVec2 = inputMan.norm(pointCenter, tangentVec2)\n",
    "        # Compute angle between vectors (inner product divided by norm product)\n",
    "        cosAngle = np.divide(inputMan.inner_product(pointCenter, tangentVec1, tangentVec2),\n",
    "            (normVec1 * normVec2))\n",
    "        angle = np.arccos(cosAngle) * 360 / (2*np.pi)\n",
    "        if angle > 90:\n",
    "            angle = 180 - angle\n",
    "        angleVec[c] = angle\n",
    "    return angleVec"
   ]
  },
  {
   "cell_type": "code",
   "execution_count": null,
   "id": "f1b2f5d2",
   "metadata": {
    "collapsed": false
   },
   "outputs": [],
   "source": [
    "### Compute angles between classes\n",
    "for c in range(amaPy.nClasses-2):\n",
    "    # Ama filter responses\n",
    "    respCovAng = compute_angles(respCovs, manifold)\n",
    "    # Random filter responses\n",
    "    respRandomCovAng = compute_angles(randomRespCovs, manifold)\n",
    "    # PCA filter responses\n",
    "    stimCovAng = compute_angles(pcaCovs, manifold)"
   ]
  },
  {
   "cell_type": "code",
   "execution_count": null,
   "id": "b6d0e655",
   "metadata": {
    "collapsed": false
   },
   "outputs": [],
   "source": [
    "### PLOT FILTERS\n",
    "x = np.linspace(start=-30, stop=30, num=nPixels) # x axis in arc min\n",
    "plt.subplot(2,3,1)\n",
    "view_filters_bino(f=fLearned[0,:], x=x, title='Trained filters')\n",
    "plt.subplot(2,3,4)\n",
    "view_filters_bino(f=fLearned[1,:], x=x)\n",
    "plt.subplot(2,3,2)\n",
    "view_filters_bino(f=fRandom[0,:], x=x, title='Random filters')\n",
    "plt.yticks([])\n",
    "plt.subplot(2,3,5)\n",
    "view_filters_bino(f=fRandom[1,:], x=x)\n",
    "plt.yticks([])\n",
    "plt.subplot(2,3,3)\n",
    "view_filters_bino(f=fPCA[0,:], x=x, title='PCA filters')\n",
    "plt.yticks([])\n",
    "plt.subplot(2,3,6)\n",
    "view_filters_bino(f=fPCA[1,:], x=x)\n",
    "plt.yticks([])\n",
    "plt.show()"
   ]
  },
  {
   "cell_type": "code",
   "execution_count": null,
   "id": "31eb5d13",
   "metadata": {
    "collapsed": false
   },
   "outputs": [],
   "source": [
    "### PLOT RESULTS \n",
    "# Plot distances\n",
    "plt.subplot(2,3,1)\n",
    "plt.title('Trained filters')\n",
    "plt.ylabel('Distance between classes')\n",
    "plt.plot(respCovDist)\n",
    "plt.ylim([0, ymaxDist*1.1])\n",
    "plt.subplot(2,3,2)\n",
    "plt.title('Random filters')\n",
    "plt.plot(respRandomCovDist)\n",
    "plt.ylim([0, ymaxDist*1.1])\n",
    "plt.yticks([])\n",
    "plt.subplot(2,3,3)\n",
    "plt.title('PCA filters')\n",
    "plt.plot(stimCovDist)\n",
    "plt.ylim([0, ymaxDist*1.1])\n",
    "plt.yticks([])\n",
    "# Plot angles\n",
    "plt.subplot(2,3,4)\n",
    "plt.ylabel('Angle between classes')\n",
    "plt.plot(respCovAng)\n",
    "plt.ylim(0, 90)\n",
    "plt.subplot(2,3,5)\n",
    "plt.plot(respRandomCovAng)\n",
    "plt.ylim(0, 90)\n",
    "plt.yticks([])\n",
    "plt.subplot(2,3,6)\n",
    "plt.plot(stimCovAng)\n",
    "plt.ylim(0, 90)\n",
    "plt.yticks([])\n",
    "plt.show()"
   ]
  }
 ],
 "metadata": {},
 "nbformat": 4,
 "nbformat_minor": 5
}
