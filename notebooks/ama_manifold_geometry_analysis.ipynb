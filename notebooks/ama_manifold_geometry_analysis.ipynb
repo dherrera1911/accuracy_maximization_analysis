{
 "cells": [
  {
   "cell_type": "markdown",
   "id": "5bf54024",
   "metadata": {},
   "source": [
    "# Geometrical analysis of disparity estimation statistics\n",
    "\n",
    "Train AMA on the task of disparity estimation. Analyze the\n",
    "distances and angles between the covariance matrices of\n",
    "each class, in the manifold of symmetric positive definite matrices"
   ]
  },
  {
   "cell_type": "code",
   "execution_count": null,
   "id": "2b509598",
   "metadata": {
    "collapsed": false
   },
   "outputs": [],
   "source": [
    "##############\n",
    "#### IMPORT PACKAGES\n",
    "##############\n",
    "import scipy.io as spio\n",
    "import numpy as np\n",
    "import torch\n",
    "import matplotlib.pyplot as plt\n",
    "import torch.nn as nn\n",
    "import torch.nn.functional as F\n",
    "from torch.utils.data import TensorDataset, DataLoader"
   ]
  },
  {
   "cell_type": "code",
   "execution_count": null,
   "id": "a0f84f3a",
   "metadata": {
    "collapsed": false
   },
   "outputs": [],
   "source": [
    "##### COMMENT THIS CELL WHEN USING GOOGLE COLAB\n",
    "#from ama_library import *\n",
    "#import pymanopt as pm"
   ]
  },
  {
   "cell_type": "code",
   "execution_count": null,
   "id": "a7c669d7",
   "metadata": {
    "collapsed": false
   },
   "outputs": [],
   "source": [
    "#### UNCOMMENT THIS CELL FOR GOOGLE COLAB EXECUTION\n",
    "!pip install geotorch\n",
    "import geotorch\n",
    "!pip install pymanopt\n",
    "import pymanopt as pm\n",
    "!pip install git+https://github.com/dherrera1911/accuracy_maximization_analysis.git\n",
    "from ama_library import *\n",
    "!mkdir data\n",
    "!wget -O ./data/AMAdataDisparity.mat https://github.com/burgelab/AMA/blob/master/AMAdataDisparity.mat?raw=true"
   ]
  },
  {
   "cell_type": "code",
   "execution_count": null,
   "id": "34278f02",
   "metadata": {
    "collapsed": false
   },
   "outputs": [],
   "source": [
    "##############\n",
    "#### LOAD AMA DATA\n",
    "##############\n",
    "# Load ama struct from .mat file into Python\n",
    "data = spio.loadmat('./data/AMAdataDisparity.mat')\n",
    "# Extract contrast normalized, noisy stimulus\n",
    "s = data.get(\"s\")\n",
    "s = torch.from_numpy(s)\n",
    "s = s.transpose(0,1)\n",
    "s = s.float()\n",
    "# Extract the vector indicating category of each stimulus row\n",
    "ctgInd = data.get(\"ctgInd\")\n",
    "ctgInd = torch.tensor(ctgInd)\n",
    "ctgInd = ctgInd.flatten()\n",
    "ctgInd = ctgInd-1       # convert to python indexing (subtract 1)\n",
    "ctgInd = ctgInd.type(torch.LongTensor)  # convert to torch integer\n",
    "# Extract the values of the latent variable\n",
    "ctgVal = data.get(\"X\")\n",
    "ctgVal = torch.from_numpy(ctgVal)\n",
    "ctgVal = ctgVal.flatten()\n",
    "nPixels = int(s.shape[1]/2)\n",
    "# Extract original noise parameters\n",
    "filterSigmaOri = data.get(\"var0\").flatten()\n",
    "maxRespOri = data.get(\"rMax\").flatten()"
   ]
  },
  {
   "cell_type": "code",
   "execution_count": null,
   "id": "6d7aa4f7",
   "metadata": {
    "collapsed": false
   },
   "outputs": [],
   "source": [
    "##############\n",
    "#### SET TRAINING PARAMETERS\n",
    "##############\n",
    "nFilt = 2   # Number of filters to use\n",
    "filterSigma = float(filterSigmaOri / maxRespOri**2)  # Variance of filter responses\n",
    "nEpochs = 20\n",
    "lrGamma = 0.3   # multiplication factor for lr decay\n",
    "lossFun = nn.CrossEntropyLoss()\n",
    "learningRate = 0.01\n",
    "lrStepSize = 10\n",
    "batchSize = 256"
   ]
  },
  {
   "cell_type": "code",
   "execution_count": null,
   "id": "e197d325",
   "metadata": {
    "collapsed": false
   },
   "outputs": [],
   "source": [
    "##############\n",
    "####  TRAIN THE MODEL\n",
    "##############\n",
    "# Define model\n",
    "amaPy = AMA(sAll=s, nFilt=nFilt, ctgInd=ctgInd, filterSigma=filterSigma,\n",
    "        ctgVal=ctgVal)\n",
    "\n",
    "# Extract the initial random response covariances\n",
    "respRandomCovs = amaPy.respCovs.detach().numpy()\n",
    "fRandom = amaPy.f.detach().clone().numpy()\n",
    "\n",
    "# Put training data into Torch data loader tools\n",
    "trainDataset = TensorDataset(s, ctgInd)\n",
    "# Batch loading and other utilities \n",
    "trainDataLoader = DataLoader(trainDataset, batch_size=batchSize, shuffle=True)\n",
    "# Set up optimizer\n",
    "opt = torch.optim.Adam(amaPy.parameters(), lr=learningRate)  # Adam\n",
    "# Make learning rate scheduler\n",
    "scheduler = optim.lr_scheduler.StepLR(opt, step_size=lrStepSize, gamma=lrGamma)"
   ]
  },
  {
   "cell_type": "code",
   "execution_count": null,
   "id": "b82ecb12",
   "metadata": {
    "collapsed": false
   },
   "outputs": [],
   "source": [
    "# fit model to data\n",
    "loss, elapsedTimes = fit(nEpochs=nEpochs, model=amaPy,\n",
    "        trainDataLoader=trainDataLoader, lossFun=lossFun, opt=opt,\n",
    "        scheduler=scheduler)\n",
    "plt.plot(elapsedTimes, loss)\n",
    "plt.xlabel('Time (s)')\n",
    "plt.ylabel('Loss')\n",
    "plt.show()\n",
    "\n",
    "# Extract response covariances for trained filters\n",
    "respCovs = amaPy.respCovs.detach().numpy()\n",
    "fLearned = amaPy.f.detach().clone().numpy()"
   ]
  },
  {
   "cell_type": "code",
   "execution_count": null,
   "id": "bd9df8d7",
   "metadata": {
    "collapsed": false
   },
   "outputs": [],
   "source": [
    "##############\n",
    "#### GET COVARIANCE MATRICES OF PCA FILTER RESPONSES\n",
    "##############\n",
    "pcaDim = nFilt\n",
    "stimCovs = amaPy.stimCovs.detach()\n",
    "u, a, fPCA = np.linalg.svd(s)\n",
    "fPCA = torch.from_numpy(fPCA[0:pcaDim,:])\n",
    "pcaCovs = torch.einsum('fd,jdb,gb->jfg', fPCA, stimCovs, fPCA)\n",
    "pcaCovs = pcaCovs.numpy() + amaPy.noiseCov.numpy()"
   ]
  },
  {
   "cell_type": "code",
   "execution_count": null,
   "id": "98be69c6",
   "metadata": {
    "collapsed": false
   },
   "outputs": [],
   "source": [
    "# Put the learned filters into a list for tidier plotting\n",
    "fList = [fLearned, fRandom, fPCA]\n",
    "namesList = ['Learned filters', 'Random filters', 'PCA filters']"
   ]
  },
  {
   "cell_type": "code",
   "execution_count": null,
   "id": "64dd3962",
   "metadata": {
    "collapsed": false
   },
   "outputs": [],
   "source": [
    "###########\n",
    "### MANIFOLD ANALYSIS\n",
    "###########\n",
    "\n",
    "# Define function to compute angles formed by each matrix with its 2 neighbors\n",
    "def compute_average_dist(inputMat, inputMan):\n",
    "    distVec = np.zeros(inputMat.shape[0]-2)\n",
    "    for c in range(inputMat.shape[0]-2):\n",
    "        pointCenter = inputMat[c+1,:,:]\n",
    "        pointPrev = inputMat[c,:,:]\n",
    "        pointNext = inputMat[c+2,:,:]\n",
    "        dist1 = inputMan.dist(pointCenter, pointPrev)\n",
    "        dist2 = inputMan.dist(pointCenter, pointNext)\n",
    "        distVec[c] = np.mean([dist1, dist2])\n",
    "    return distVec\n",
    "\n",
    "# Define function to compute angles formed by each matrix with its 2 neighbors\n",
    "def compute_angles(inputMat, inputMan):\n",
    "    angleVec = np.zeros(inputMat.shape[0]-2)\n",
    "    for c in range(inputMat.shape[0]-2):\n",
    "        pointCenter = inputMat[c+1,:,:]\n",
    "        pointPrev = inputMat[c,:,:]\n",
    "        pointNext = inputMat[c+2,:,:]\n",
    "        # Get the vectors between a point and its two adjacent points\n",
    "        tangentVec1 = inputMan.to_tangent_space(pointCenter, pointPrev - pointCenter)\n",
    "        normVec1 = inputMan.norm(pointCenter, tangentVec1)\n",
    "        tangentVec2 = inputMan.to_tangent_space(pointCenter, pointCenter - pointNext)\n",
    "        normVec2 = inputMan.norm(pointCenter, tangentVec2)\n",
    "        # Compute angle between vectors (inner product divided by norm product)\n",
    "        cosAngle = np.divide(inputMan.inner_product(pointCenter, tangentVec1, tangentVec2),\n",
    "            (normVec1 * normVec2))\n",
    "        angle = np.arccos(cosAngle) * 360 / (2*np.pi)\n",
    "        if angle > 90:\n",
    "            angle = 180 - angle\n",
    "        angleVec[c] = angle\n",
    "    return angleVec"
   ]
  },
  {
   "cell_type": "code",
   "execution_count": null,
   "id": "60d3fb65",
   "metadata": {
    "collapsed": false
   },
   "outputs": [],
   "source": [
    "# INITIALIZE MANIFOLD STRUCTURE TO ANALYZE GEOMETRY\n",
    "# SPDM\n",
    "manifold = pm.manifolds.positive_definite.SymmetricPositiveDefinite(amaPy.nFilt, k=1)\n",
    "# PSDM\n",
    "#manifold = pm.manifolds.psd.PSDFixedRank(amaPy.nFilt, k=2)\n",
    "# Euclidean\n",
    "#manifold = pm.manifolds.euclidean.Euclidean((nFilt, nFilt))"
   ]
  },
  {
   "cell_type": "code",
   "execution_count": null,
   "id": "fd937abe",
   "metadata": {
    "collapsed": false
   },
   "outputs": [],
   "source": [
    "### Compute average distance between a class and its neighbors\n",
    "respCovDist = compute_average_dist(respCovs, manifold)\n",
    "respRandomCovDist = compute_average_dist(respRandomCovs, manifold)\n",
    "respPCACovDist = compute_average_dist(pcaCovs, manifold)\n",
    "# Put distances into list for tidier plotting\n",
    "distancesList = [respCovDist, respRandomCovDist, respPCACovDist]\n",
    "ymaxDist = np.max(distancesList)"
   ]
  },
  {
   "cell_type": "code",
   "execution_count": null,
   "id": "ff8f599f",
   "metadata": {
    "collapsed": false
   },
   "outputs": [],
   "source": [
    "### Compute angles between classes\n",
    "# Ama filter responses\n",
    "respCovAng = compute_angles(respCovs, manifold)\n",
    "# Random filter responses\n",
    "respRandomCovAng = compute_angles(respRandomCovs, manifold)\n",
    "# PCA filter responses\n",
    "respPCACovAng = compute_angles(pcaCovs, manifold)\n",
    "# Put angles into list for tidier plotting\n",
    "anglesList = [respCovAng, respRandomCovAng, respPCACovAng]"
   ]
  },
  {
   "cell_type": "code",
   "execution_count": null,
   "id": "f3566333",
   "metadata": {
    "collapsed": false
   },
   "outputs": [],
   "source": [
    "### PLOT FILTERS\n",
    "nModels = len(namesList)\n",
    "x = np.linspace(start=-30, stop=30, num=nPixels) # x axis in arc min\n",
    "for n in range(nModels):\n",
    "    fPlot = fList[n]\n",
    "    plt.subplot(2,3,n+1)\n",
    "    view_filters_bino(f=fPlot[0,:], x=x, title=namesList[n])\n",
    "    if (n>0):\n",
    "        plt.yticks([])\n",
    "    plt.subplot(2,3,n+4)\n",
    "    view_filters_bino(f=fPlot[1,:], x=x)\n",
    "    if (n>0):\n",
    "        plt.yticks([])\n",
    "    plt.xlabel('Visual field (arcmin)')\n",
    "plt.show()"
   ]
  },
  {
   "cell_type": "code",
   "execution_count": null,
   "id": "84758e4e",
   "metadata": {
    "collapsed": false
   },
   "outputs": [],
   "source": [
    "### PLOT RESULTS \n",
    "disparities = ctgVal[1:-1]\n",
    "# Plot distances\n",
    "for n in range(nModels):\n",
    "    plt.subplot(2,3,n+1)\n",
    "    plt.title(namesList[n]) \n",
    "    if (n==0):\n",
    "        plt.ylabel('Distance between classes')\n",
    "    else:\n",
    "        plt.yticks([])\n",
    "    plt.plot(disparities, distancesList[n])\n",
    "    plt.ylim([0, ymaxDist*1.1])\n",
    "    plt.subplot(2,3,n+4)\n",
    "    if (n==0):\n",
    "        plt.ylabel('Angle between classes')\n",
    "    else:\n",
    "        plt.yticks([])\n",
    "    plt.plot(disparities, anglesList[n])\n",
    "    plt.ylim(0, 90)\n",
    "    plt.xlabel('Disparity (arcmin)')\n",
    "\n",
    "plt.show()"
   ]
  },
  {
   "cell_type": "code",
   "execution_count": null,
   "id": "e8a0e572",
   "metadata": {
    "collapsed": false
   },
   "outputs": [],
   "source": [
    "# Check whether the distances depend on\n",
    "# the order of the filters, or on their rotations\n",
    "#\n",
    "## Distances when changing the order of vectors\n",
    "#fPCA2 = fPCA[[1,0],:]\n",
    "#pcaCovs2 = torch.einsum('fd,jdb,gb->jfg', fPCA2, stimCovs, fPCA2)\n",
    "#pcaCovs2 = pcaCovs2.numpy()\n",
    "#swappedDist = np.zeros(amaPy.nClasses)\n",
    "#for c in range(amaPy.nClasses):\n",
    "#    swappedDist[c] = manifold.dist(pcaCovs[c,:,:], pcaCovs2[c,:,:])\n",
    "#\n",
    "#plt.plot(ctgVal, swappedDist)\n",
    "#plt.xlabel('Disparity (arcmin)')\n",
    "#plt.ylabel('Distance between swapped filters covariances')\n",
    "#plt.show()\n",
    "#\n",
    "#manifold.log(pcaCovs[0,:,:], pcaCovs2[0,:,:])\n",
    "#manifold.log(pcaCovs[0,:,:], pcaCovs[1,:,:])\n",
    "#\n",
    "## <codecell>\n",
    "## Distances when changing the sign of the vectors\n",
    "#fPCA3 = -fPCA\n",
    "#pcaCovs3 = torch.einsum('fd,jdb,gb->jfg', fPCA3, stimCovs, fPCA3)\n",
    "#pcaCovs3 = pcaCovs3.numpy()\n",
    "#negativeDist = np.zeros(amaPy.nClasses)\n",
    "#for c in range(amaPy.nClasses):\n",
    "#    negativeDist[c] = manifold.dist(pcaCovs[c,:,:], pcaCovs3[c,:,:])\n",
    "#\n",
    "#plt.plot(ctgVal, negativeDist)\n",
    "#plt.xlabel('Disparity (arcmin)')\n",
    "#plt.ylabel('Distance between negative filters covariances')\n",
    "#plt.show()\n",
    "#"
   ]
  }
 ],
 "metadata": {},
 "nbformat": 4,
 "nbformat_minor": 5
}
