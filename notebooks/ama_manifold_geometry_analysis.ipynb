{
 "cells": [
  {
   "cell_type": "markdown",
   "id": "1b074257",
   "metadata": {},
   "source": [
    "# Geometrical analysis of disparity estimation statistics\n",
    "\n",
    "Train AMA on the task of disparity estimation. Analyze the\n",
    "distances and angles between the covariance matrices of\n",
    "each class, in the manifold of symmetric positive definite matrices"
   ]
  },
  {
   "cell_type": "code",
   "execution_count": null,
   "id": "c7c2ace2",
   "metadata": {
    "collapsed": false
   },
   "outputs": [],
   "source": [
    "##############\n",
    "#### IMPORT PACKAGES\n",
    "##############\n",
    "import scipy.io as spio\n",
    "import numpy as np\n",
    "import torch\n",
    "import matplotlib.pyplot as plt\n",
    "from torch.utils.data import TensorDataset, DataLoader"
   ]
  },
  {
   "cell_type": "code",
   "execution_count": null,
   "id": "4cdad6ac",
   "metadata": {
    "collapsed": false
   },
   "outputs": [],
   "source": [
    "# Download data and install packages\n",
    "!pip install geotorch\n",
    "import geotorch\n",
    "!pip install pymanopt\n",
    "import pymanopt as pm\n",
    "!pip install git+https://github.com/dherrera1911/accuracy_maximization_analysis.git\n",
    "from ama_library import *\n",
    "!mkdir data\n",
    "!wget -O ./data/AMAdataDisparity.mat https://github.com/burgelab/AMA/blob/master/AMAdataDisparity.mat?raw=true"
   ]
  },
  {
   "cell_type": "code",
   "execution_count": null,
   "id": "97728fcf",
   "metadata": {
    "collapsed": false
   },
   "outputs": [],
   "source": [
    "##### COMMENT THIS CELL WHEN USING GOOGLE COLAB\n",
    "import ama_library.ama_class as cl\n",
    "import ama_library.utilities as au\n",
    "import pymanopt as pm\n",
    "import geomstats as gs\n",
    "from geomstats.geometry.spd_matrices import SPDMatrices"
   ]
  },
  {
   "cell_type": "code",
   "execution_count": null,
   "id": "d7f397d0",
   "metadata": {
    "collapsed": false
   },
   "outputs": [],
   "source": [
    "##############\n",
    "#### LOAD AMA DATA\n",
    "##############\n",
    "# Load ama struct from .mat file into Python\n",
    "data = spio.loadmat('./data/ama_dsp_noiseless.mat')\n",
    "# Extract contrast normalized, noisy stimulus\n",
    "s = data.get(\"s\")\n",
    "s = torch.from_numpy(s)\n",
    "s = s.transpose(0,1)\n",
    "s = s.float()\n",
    "# Extract the vector indicating category of each stimulus row\n",
    "ctgInd = data.get(\"ctgInd\")\n",
    "ctgInd = torch.tensor(ctgInd)\n",
    "ctgInd = ctgInd.flatten()\n",
    "ctgInd = ctgInd-1       # convert to python indexing (subtract 1)\n",
    "ctgInd = ctgInd.type(torch.LongTensor)  # convert to torch integer\n",
    "# Extract the values of the latent variable\n",
    "ctgVal = data.get(\"X\")\n",
    "ctgVal = torch.from_numpy(ctgVal)\n",
    "ctgVal = ctgVal.flatten().float()\n",
    "nPixels = int(s.shape[1]/2)"
   ]
  },
  {
   "cell_type": "code",
   "execution_count": null,
   "id": "a69ced36",
   "metadata": {
    "collapsed": false
   },
   "outputs": [],
   "source": [
    "##########################\n",
    "#\n",
    "# OBTAIN COVARIANCE MATRICES\n",
    "#\n",
    "##########################\n",
    "\n",
    "##############\n",
    "#### SET TRAINING PARAMETERS\n",
    "##############\n",
    "nPairs = 2   # Number of filters to use\n",
    "pixelNoiseVar = 0.001  # Input pixel noise variance\n",
    "respNoiseVar = 0.003  # Filter response noise variance\n",
    "nEpochs = 30\n",
    "lrGamma = 0.5   # multiplication factor for lr decay\n",
    "lossFun = au.cross_entropy_loss()\n",
    "#lossFun = au.kl_loss()\n",
    "learningRate = 0.05\n",
    "lrStepSize = 10\n",
    "batchSize = 256\n",
    "nSeeds = 2\n",
    "nFilt = nPairs * 2"
   ]
  },
  {
   "cell_type": "code",
   "execution_count": null,
   "id": "cf11f5f4",
   "metadata": {
    "collapsed": false
   },
   "outputs": [],
   "source": [
    "##############\n",
    "#### TRAINED MODEL COVARIANCES\n",
    "##############\n",
    "\n",
    "# Define model\n",
    "ama = cl.AMA(sAll=s, nFilt=2, ctgInd=ctgInd, respNoiseVar=respNoiseVar,\n",
    "        pixelCov=pixelNoiseVar, ctgVal=ctgVal, respCovPooling='pre-filter',\n",
    "        filtNorm='broadband')\n",
    "\n",
    "# Put training data into Torch data loader tools\n",
    "trainDataset = TensorDataset(s, ctgInd)\n",
    "# Batch loading and other utilities \n",
    "trainDataLoader = DataLoader(trainDataset, batch_size=batchSize, shuffle=True)\n",
    "# Function that returns an optimizer\n",
    "def opt_fun(model):\n",
    "    return torch.optim.Adam(model.parameters(), lr=learningRate)\n",
    "# Function that returns a scheduler\n",
    "def scheduler_fun(opt):\n",
    "    return torch.optim.lr_scheduler.StepLR(opt, step_size=lrStepSize, gamma=lrGamma)"
   ]
  },
  {
   "cell_type": "code",
   "execution_count": null,
   "id": "20e3a352",
   "metadata": {
    "collapsed": false
   },
   "outputs": [],
   "source": [
    "# FIT MODEL TO DATA\n",
    "loss, elapsedTimes = au.fit_by_pairs(nEpochs=nEpochs, model=ama,\n",
    "        trainDataLoader=trainDataLoader, lossFun=lossFun, opt_fun=opt_fun,\n",
    "        nPairs=nPairs, sAll=s, ctgInd=ctgInd, scheduler_fun=scheduler_fun,\n",
    "        seedsByPair=nSeeds)\n",
    "\n",
    "# EXTRACT RESPONSE COVARIANCES FOR TRAINED FILTERS\n",
    "respCov = ama.respCov.detach().numpy()\n",
    "fLearned = ama.f.detach().clone().numpy()"
   ]
  },
  {
   "cell_type": "code",
   "execution_count": null,
   "id": "c7c47d24",
   "metadata": {
    "collapsed": false
   },
   "outputs": [],
   "source": [
    "##############\n",
    "#### UNTRAINED MODEL COVARIANCES\n",
    "##############\n",
    "amaRand = cl.AMA(sAll=s, nFilt=nFilt, ctgInd=ctgInd, respNoiseVar=respNoiseVar,\n",
    "        pixelCov=pixelNoiseVar, ctgVal=ctgVal, respCovPooling='pre-filter',\n",
    "        filtNorm='broadband')\n",
    "# Extract response covariances for trained filters\n",
    "respRandomCovs = amaRand.respCov.detach().numpy()\n",
    "fRandom = amaRand.f.detach().clone().numpy()"
   ]
  },
  {
   "cell_type": "code",
   "execution_count": null,
   "id": "fd55c0b7",
   "metadata": {
    "collapsed": false
   },
   "outputs": [],
   "source": [
    "##############\n",
    "#### PCA FILTER COVARIANCES\n",
    "##############\n",
    "\n",
    "# Get the overall dataset covariance to get the PCA filters\n",
    "stimCovMean = torch.mean(ama.stimCov, dim=0)\n",
    "# Get eigenvectors of overall dataset covariance. These are PCA filters\n",
    "eigVals, eigVecs = torch.linalg.eig(stimCovMean)\n",
    "fPCA = eigVecs.real[:,0:nFilt].transpose(0,1)\n",
    "# Use the PCA filters to get the class-specific response covariance\n",
    "pcaCovs = torch.einsum('fd,jdb,gb->jfg', fPCA, ama.stimCov, fPCA)\n",
    "pcaCovs = pcaCovs + ama.respNoiseCov.unsqueeze(0).repeat(ama.nClasses, 1, 1)\n",
    "pcaCovs = pcaCovs.numpy()"
   ]
  },
  {
   "cell_type": "code",
   "execution_count": null,
   "id": "c78efa36",
   "metadata": {
    "collapsed": false
   },
   "outputs": [],
   "source": [
    "# Put the learned filters into a list for tidier plotting\n",
    "fList = [fLearned, fRandom, fPCA]\n",
    "namesList = ['Learned filters', 'Random filters', 'PCA filters', 'Stimuli']"
   ]
  },
  {
   "cell_type": "code",
   "execution_count": null,
   "id": "339734b8",
   "metadata": {
    "collapsed": false
   },
   "outputs": [],
   "source": [
    "##########################\n",
    "#\n",
    "# MANIFOLD ANALYSIS\n",
    "#\n",
    "##########################\n",
    "\n",
    "# Define function to compute angles formed by each matrix with its 2 neighbors\n",
    "def compute_average_dist(inputMat, inputMan):\n",
    "    distVec = np.zeros(inputMat.shape[0]-2)\n",
    "    for c in range(inputMat.shape[0]-2):\n",
    "        pointCenter = inputMat[c+1,:,:]\n",
    "        pointPrev = inputMat[c,:,:]\n",
    "        pointNext = inputMat[c+2,:,:]\n",
    "        dist1 = inputMan.dist(pointCenter, pointPrev)\n",
    "        dist2 = inputMan.dist(pointCenter, pointNext)\n",
    "        distVec[c] = np.mean([dist1, dist2])\n",
    "    return distVec\n",
    "\n",
    "# Define function to compute angles formed by each matrix with its 2 neighbors\n",
    "def compute_angles(inputMat, inputMan):\n",
    "    angleVec = np.zeros(inputMat.shape[0]-2)\n",
    "    for c in range(inputMat.shape[0]-2):\n",
    "        pointCenter = inputMat[c+1,:,:]\n",
    "        pointPrev = inputMat[c,:,:]\n",
    "        pointNext = inputMat[c+2,:,:]\n",
    "        # Get the vectors between a point and its two adjacent points\n",
    "        tangentVec1 = inputMan.to_tangent_space(pointCenter, pointPrev - pointCenter)\n",
    "        normVec1 = inputMan.norm(pointCenter, tangentVec1)\n",
    "        tangentVec2 = inputMan.to_tangent_space(pointCenter, pointCenter - pointNext)\n",
    "        normVec2 = inputMan.norm(pointCenter, tangentVec2)\n",
    "        # Compute angle between vectors (inner product divided by norm product)\n",
    "        cosAngle = np.divide(inputMan.inner_product(pointCenter, tangentVec1, tangentVec2),\n",
    "            (normVec1 * normVec2))\n",
    "        angle = np.arccos(cosAngle) * 360 / (2*np.pi)\n",
    "        if angle > 90:\n",
    "            angle = 180 - angle\n",
    "        angleVec[c] = angle\n",
    "    return angleVec"
   ]
  },
  {
   "cell_type": "code",
   "execution_count": null,
   "id": "48196005",
   "metadata": {
    "collapsed": false
   },
   "outputs": [],
   "source": [
    "# INITIALIZE MANIFOLD STRUCTURE TO ANALYZE GEOMETRY\n",
    "# SPDM\n",
    "manifold = pm.manifolds.positive_definite.SymmetricPositiveDefinite(ama.nFilt, k=1)\n",
    "manifoldStim = pm.manifolds.positive_definite.SymmetricPositiveDefinite(ama.nDim, k=1)\n",
    "# PSDM\n",
    "#manifold = pm.manifolds.psd.PSDFixedRank(ama.nFilt, k=ama.nFilt)\n",
    "#manifoldStim = pm.manifolds.psd.PSDFixedRank(ama.nDim, k=ama.nDim)\n",
    "# Euclidean\n",
    "#manifold = pm.manifolds.euclidean.Euclidean((nFilt, nFilt))\n",
    "#manifoldStim = pm.manifolds.euclidean.Euclidean((ama.nDim, ama.nDim))"
   ]
  },
  {
   "cell_type": "code",
   "execution_count": null,
   "id": "8d5fb411",
   "metadata": {
    "collapsed": false
   },
   "outputs": [],
   "source": [
    "### Compute average distance between a class and its neighbors\n",
    "respCovDist = compute_average_dist(respCov, manifold)\n",
    "respRandomCovDist = compute_average_dist(respRandomCovs, manifold)\n",
    "respPCACovDist = compute_average_dist(pcaCovs, manifold)\n",
    "stimCovDist = compute_average_dist(np.array(ama.stimCov), manifoldStim)\n",
    "# Put distances into list for tidier plotting\n",
    "distancesList = [respCovDist, respRandomCovDist, respPCACovDist, stimCovDist]\n",
    "ymaxDist = np.max(distancesList)"
   ]
  },
  {
   "cell_type": "code",
   "execution_count": null,
   "id": "bd336474",
   "metadata": {
    "collapsed": false
   },
   "outputs": [],
   "source": [
    "### Compute angles between classes\n",
    "# Ama filter responses\n",
    "respCovAng = compute_angles(respCov, manifold)\n",
    "# Random filter responses\n",
    "respRandomCovAng = compute_angles(respRandomCovs, manifold)\n",
    "# PCA filter responses\n",
    "respPCACovAng = compute_angles(pcaCovs, manifold)\n",
    "# Raw stimuli covariances\n",
    "stimCovAng = compute_angles(np.array(ama.stimCov), manifoldStim)\n",
    "# Put angles into list for tidier plotting\n",
    "anglesList = [respCovAng, respRandomCovAng, respPCACovAng, stimCovAng]"
   ]
  },
  {
   "cell_type": "code",
   "execution_count": null,
   "id": "a012fd20",
   "metadata": {
    "collapsed": false
   },
   "outputs": [],
   "source": [
    "### PLOT FILTERS\n",
    "nModels = len(namesList)\n",
    "x = np.linspace(start=-30, stop=30, num=nPixels) # x axis in arc min\n",
    "for n in range(nModels-1):\n",
    "    for nf in range(nFilt):\n",
    "        fPlot = fList[n]\n",
    "        plt.subplot(nFilt, nModels, n+1+nModels*nf)\n",
    "        titleStr = namesList[n]\n",
    "        if (nf>0):\n",
    "            titleStr = ''\n",
    "        au.view_1D_bino_image(inputVec=fPlot[nf,:], x=x, title=titleStr)\n",
    "        plt.yticks([])\n",
    "        plt.xlabel('Visual field (arcmin)')\n",
    "\n",
    "plt.show()"
   ]
  },
  {
   "cell_type": "code",
   "execution_count": null,
   "id": "206a34f5",
   "metadata": {
    "collapsed": false
   },
   "outputs": [],
   "source": [
    "### PLOT RESULTS \n",
    "disparities = ctgVal[1:-1]\n",
    "# Plot distances\n",
    "for n in range(nModels):\n",
    "    plt.subplot(2, nModels, n+1)\n",
    "    plt.title(namesList[n]) \n",
    "    if (n==0):\n",
    "        plt.ylabel('Distance between classes')\n",
    "    else:\n",
    "        plt.yticks([])\n",
    "    plt.plot(disparities, distancesList[n])\n",
    "    plt.ylim([0, ymaxDist*1.1])\n",
    "    plt.subplot(2, nModels, n+(nModels+1))\n",
    "    if (n==0):\n",
    "        plt.ylabel('Angle between classes')\n",
    "    else:\n",
    "        plt.yticks([])\n",
    "    plt.plot(disparities, anglesList[n])\n",
    "    plt.ylim(0, 90)\n",
    "    plt.xlabel('Disparity (arcmin)')\n",
    "\n",
    "plt.show()"
   ]
  },
  {
   "cell_type": "code",
   "execution_count": null,
   "id": "f66b2518",
   "metadata": {
    "collapsed": false
   },
   "outputs": [],
   "source": [
    "from sklearn.manifold import Isomap\n",
    "\n",
    "# Define function to compute matrix of pairwise distances\n",
    "def compute_dist_matrix(inputMat, inputMan):\n",
    "    nClasses = inputMat.shape[0]\n",
    "    distMat = np.zeros((nClasses, nClasses))\n",
    "    for c in range(nClasses):\n",
    "        point1 = inputMat[c,:,:]\n",
    "        for d in range(nClasses):\n",
    "            point2 = inputMat[d,:,:]\n",
    "            distMat[c,d] = inputMan.dist(point1, point2)\n",
    "    # make matrix symmetric, taking largest distance in unmatched points\n",
    "    distMat = np.maximum(distMat, distMat.transpose())\n",
    "    return distMat\n",
    "\n",
    "# Get pairwise distance matrix for trained filter responses\n",
    "distMatResp = compute_dist_matrix(respCov, manifold)\n",
    "distMatRand = compute_dist_matrix(respRandomCovs, manifold)\n",
    "distMatPCA = compute_dist_matrix(pcaCovs, manifold)\n",
    "distMatStim = compute_dist_matrix(np.array(ama.stimCov), manifoldStim)\n",
    "distMatList = [distMatResp, distMatRand, distMatPCA,\n",
    "        distMatStim] # put into list for nicer code\n",
    "\n",
    "# Plot distance matrices\n",
    "for n in range(nModels):\n",
    "    plt.subplot(1,nModels,n+1)\n",
    "    plt.title(namesList[n]) \n",
    "    plt.imshow(distMatList[n], zorder=2, cmap='Blues', interpolation='nearest')\n",
    "    plt.colorbar();\n",
    "plt.show()\n",
    "\n",
    "from mpl_toolkits import mplot3d\n",
    "\n",
    "isomap_model = Isomap(n_neighbors=6, n_components=3, metric='precomputed')\n",
    "out = [None] * nModels\n",
    "\n",
    "for n in range(nModels):\n",
    "    out[n] = isomap_model.fit_transform(distMatList[n])\n",
    "    ax = plt.subplot(1,nModels,n+1, projection='3d')\n",
    "    plt.title(namesList[n]) \n",
    "    ax.scatter3D(out[n][:,0], out[n][:,1], out[n][:,2], c=ama.ctgVal)\n",
    "    ax.plot3D(out[n][:,0], out[n][:,1], out[n][:,2])\n",
    "    plt.axis('equal');\n",
    "plt.show()\n",
    "\n",
    "\n",
    "## Look into geometries of geomstats. Information geometry\n",
    "#from geomstats.information_geometry.normal import NormalDistributions\n",
    "#import geomstats"
   ]
  }
 ],
 "metadata": {},
 "nbformat": 4,
 "nbformat_minor": 5
}
