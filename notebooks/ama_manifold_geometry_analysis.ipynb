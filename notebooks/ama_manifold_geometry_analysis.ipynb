{
 "cells": [
  {
   "cell_type": "markdown",
   "id": "78707f98",
   "metadata": {},
   "source": [
    "# Geometrical analysis of disparity estimation statistics\n",
    "\n",
    "Train AMA on the task of disparity estimation. Analyze the\n",
    "distances and angles between the covariance matrices of\n",
    "each class, in the manifold of symmetric positive definite matrices"
   ]
  },
  {
   "cell_type": "code",
   "execution_count": null,
   "id": "dc499168",
   "metadata": {
    "collapsed": false
   },
   "outputs": [],
   "source": [
    "##############\n",
    "#### IMPORT PACKAGES\n",
    "##############\n",
    "import scipy.io as spio\n",
    "import numpy as np\n",
    "import torch\n",
    "import matplotlib.pyplot as plt\n",
    "import torch.nn as nn\n",
    "import torch.nn.functional as F\n",
    "from torch.utils.data import TensorDataset, DataLoader"
   ]
  },
  {
   "cell_type": "code",
   "execution_count": null,
   "id": "13516b92",
   "metadata": {
    "collapsed": false
   },
   "outputs": [],
   "source": [
    "##### COMMENT THIS CELL WHEN USING GOOGLE COLAB\n",
    "#from ama_library import *\n",
    "#import pymanopt as pm\n",
    "#import geomstats as gs\n",
    "#from geomstats.geometry.spd_matrices import SPDMatrices"
   ]
  },
  {
   "cell_type": "code",
   "execution_count": null,
   "id": "c2af3909",
   "metadata": {
    "collapsed": false
   },
   "outputs": [],
   "source": [
    "#### UNCOMMENT THIS CELL FOR GOOGLE COLAB EXECUTION\n",
    "!pip install geotorch\n",
    "import geotorch\n",
    "!pip install pymanopt\n",
    "import pymanopt as pm\n",
    "!pip install git+https://github.com/dherrera1911/accuracy_maximization_analysis.git\n",
    "from ama_library import *\n",
    "!mkdir data\n",
    "!wget -O ./data/AMAdataDisparity.mat https://github.com/burgelab/AMA/blob/master/AMAdataDisparity.mat?raw=true"
   ]
  },
  {
   "cell_type": "code",
   "execution_count": null,
   "id": "adbcf1d7",
   "metadata": {
    "collapsed": false
   },
   "outputs": [],
   "source": [
    "##############\n",
    "#### LOAD AMA DATA\n",
    "##############\n",
    "# Load ama struct from .mat file into Python\n",
    "data = spio.loadmat('./data/AMAdataDisparity.mat')\n",
    "# Extract contrast normalized, noisy stimulus\n",
    "s = data.get(\"s\")\n",
    "s = torch.from_numpy(s)\n",
    "s = s.transpose(0,1)\n",
    "s = s.float()\n",
    "# Extract the vector indicating category of each stimulus row\n",
    "ctgInd = data.get(\"ctgInd\")\n",
    "ctgInd = torch.tensor(ctgInd)\n",
    "ctgInd = ctgInd.flatten()\n",
    "ctgInd = ctgInd-1       # convert to python indexing (subtract 1)\n",
    "ctgInd = ctgInd.type(torch.LongTensor)  # convert to torch integer\n",
    "# Extract the values of the latent variable\n",
    "ctgVal = data.get(\"X\")\n",
    "ctgVal = torch.from_numpy(ctgVal)\n",
    "ctgVal = ctgVal.flatten()\n",
    "nPixels = int(s.shape[1]/2)\n",
    "# Extract original noise parameters\n",
    "filterSigmaOri = data.get(\"var0\").flatten()\n",
    "maxRespOri = data.get(\"rMax\").flatten()"
   ]
  },
  {
   "cell_type": "code",
   "execution_count": null,
   "id": "f73c1242",
   "metadata": {
    "collapsed": false
   },
   "outputs": [],
   "source": [
    "##############\n",
    "#### SET TRAINING PARAMETERS\n",
    "##############\n",
    "nPairs = 2   # Number of filters to use\n",
    "filterSigma = float(filterSigmaOri / maxRespOri**2)  # Variance of filter responses\n",
    "nEpochs = 30\n",
    "lrGamma = 0.3   # multiplication factor for lr decay\n",
    "lossFun = cross_entropy_loss()\n",
    "learningRate = 0.02\n",
    "lrStepSize = 10\n",
    "batchSize = 512\n",
    "nSeeds = 4\n",
    "\n",
    "nFilt = nPairs * 2"
   ]
  },
  {
   "cell_type": "code",
   "execution_count": null,
   "id": "f7499db7",
   "metadata": {
    "collapsed": false
   },
   "outputs": [],
   "source": [
    "##############\n",
    "####  TRAIN THE MODEL, GET FILTERS AND COVARIANCES OF TRAINED MODEL\n",
    "##############\n",
    "# Define model\n",
    "amaPy = AMA(sAll=s, nFilt=2, ctgInd=ctgInd, filterSigma=filterSigma,\n",
    "        ctgVal=ctgVal)\n",
    "\n",
    "# Put training data into Torch data loader tools\n",
    "trainDataset = TensorDataset(s, ctgInd)\n",
    "# Batch loading and other utilities \n",
    "trainDataLoader = DataLoader(trainDataset, batch_size=batchSize, shuffle=True)\n",
    "# Function that returns an optimizer\n",
    "def opt_fun(model):\n",
    "    return torch.optim.Adam(model.parameters(), lr=learningRate)\n",
    "# Function that returns a scheduler\n",
    "def scheduler_fun(opt):\n",
    "    return torch.optim.lr_scheduler.StepLR(opt, step_size=lrStepSize, gamma=lrGamma)"
   ]
  },
  {
   "cell_type": "code",
   "execution_count": null,
   "id": "8f10c010",
   "metadata": {
    "collapsed": false
   },
   "outputs": [],
   "source": [
    "# fit model to data\n",
    "loss, elapsedTimes = fit_by_pairs(nEpochs=nEpochs, model=amaPy,\n",
    "        trainDataLoader=trainDataLoader, lossFun=lossFun, opt_fun=opt_fun,\n",
    "        nPairs=nPairs, scheduler_fun=scheduler_fun,\n",
    "        seedsByPair=nSeeds)\n",
    "\n",
    "# Extract response covariances for trained filters\n",
    "respCovs = amaPy.respCovs.detach().numpy()\n",
    "fLearned = amaPy.f.detach().clone().numpy()"
   ]
  },
  {
   "cell_type": "code",
   "execution_count": null,
   "id": "622a60e8",
   "metadata": {
    "collapsed": false
   },
   "outputs": [],
   "source": [
    "##############\n",
    "#### DEFINE UNTRAINED MODEL TO GET RANDOM FILTERS AND THEIR COVARIANCES\n",
    "##############\n",
    "amaPyRand = AMA(sAll=s, nFilt=nFilt, ctgInd=ctgInd, filterSigma=filterSigma,\n",
    "        ctgVal=ctgVal)\n",
    "# Extract response covariances for trained filters\n",
    "respRandomCovs = amaPyRand.respCovs.detach().numpy()\n",
    "fRandom = amaPyRand.f.detach().clone().numpy()"
   ]
  },
  {
   "cell_type": "code",
   "execution_count": null,
   "id": "0e748a1f",
   "metadata": {
    "collapsed": false
   },
   "outputs": [],
   "source": [
    "##############\n",
    "#### GET COVARIANCE MATRICES OF PCA FILTER RESPONSES\n",
    "##############\n",
    "pcaDim = nFilt\n",
    "stimCovs = amaPy.stimCovs.detach()\n",
    "u, a, fPCA = np.linalg.svd(s)\n",
    "fPCA = torch.from_numpy(fPCA[0:pcaDim,:])\n",
    "pcaCovs = torch.einsum('fd,jdb,gb->jfg', fPCA, stimCovs, fPCA)\n",
    "pcaCovs = pcaCovs.numpy() + amaPy.noiseCov.numpy()"
   ]
  },
  {
   "cell_type": "code",
   "execution_count": null,
   "id": "550cba2d",
   "metadata": {
    "collapsed": false
   },
   "outputs": [],
   "source": [
    "# Put the learned filters into a list for tidier plotting\n",
    "fList = [fLearned, fRandom, fPCA]\n",
    "namesList = ['Learned filters', 'Random filters', 'PCA filters']"
   ]
  },
  {
   "cell_type": "code",
   "execution_count": null,
   "id": "42d586c5",
   "metadata": {
    "collapsed": false
   },
   "outputs": [],
   "source": [
    "###########\n",
    "### MANIFOLD ANALYSIS\n",
    "###########\n",
    "\n",
    "# Define function to compute angles formed by each matrix with its 2 neighbors\n",
    "def compute_average_dist(inputMat, inputMan):\n",
    "    distVec = np.zeros(inputMat.shape[0]-2)\n",
    "    for c in range(inputMat.shape[0]-2):\n",
    "        pointCenter = inputMat[c+1,:,:]\n",
    "        pointPrev = inputMat[c,:,:]\n",
    "        pointNext = inputMat[c+2,:,:]\n",
    "        dist1 = inputMan.dist(pointCenter, pointPrev)\n",
    "        dist2 = inputMan.dist(pointCenter, pointNext)\n",
    "        distVec[c] = np.mean([dist1, dist2])\n",
    "    return distVec\n",
    "\n",
    "# Define function to compute angles formed by each matrix with its 2 neighbors\n",
    "def compute_angles(inputMat, inputMan):\n",
    "    angleVec = np.zeros(inputMat.shape[0]-2)\n",
    "    for c in range(inputMat.shape[0]-2):\n",
    "        pointCenter = inputMat[c+1,:,:]\n",
    "        pointPrev = inputMat[c,:,:]\n",
    "        pointNext = inputMat[c+2,:,:]\n",
    "        # Get the vectors between a point and its two adjacent points\n",
    "        tangentVec1 = inputMan.to_tangent_space(pointCenter, pointPrev - pointCenter)\n",
    "        normVec1 = inputMan.norm(pointCenter, tangentVec1)\n",
    "        tangentVec2 = inputMan.to_tangent_space(pointCenter, pointCenter - pointNext)\n",
    "        normVec2 = inputMan.norm(pointCenter, tangentVec2)\n",
    "        # Compute angle between vectors (inner product divided by norm product)\n",
    "        cosAngle = np.divide(inputMan.inner_product(pointCenter, tangentVec1, tangentVec2),\n",
    "            (normVec1 * normVec2))\n",
    "        angle = np.arccos(cosAngle) * 360 / (2*np.pi)\n",
    "        if angle > 90:\n",
    "            angle = 180 - angle\n",
    "        angleVec[c] = angle\n",
    "    return angleVec"
   ]
  },
  {
   "cell_type": "code",
   "execution_count": null,
   "id": "26616627",
   "metadata": {
    "collapsed": false
   },
   "outputs": [],
   "source": [
    "# INITIALIZE MANIFOLD STRUCTURE TO ANALYZE GEOMETRY\n",
    "# SPDM\n",
    "manifold = pm.manifolds.positive_definite.SymmetricPositiveDefinite(amaPy.nFilt, k=1)\n",
    "# PSDM\n",
    "#manifold = pm.manifolds.psd.PSDFixedRank(amaPy.nFilt, k=2)\n",
    "# Euclidean\n",
    "#manifold = pm.manifolds.euclidean.Euclidean((nFilt, nFilt))"
   ]
  },
  {
   "cell_type": "code",
   "execution_count": null,
   "id": "622c3d06",
   "metadata": {
    "collapsed": false
   },
   "outputs": [],
   "source": [
    "### Compute average distance between a class and its neighbors\n",
    "respCovDist = compute_average_dist(respCovs, manifold)\n",
    "respRandomCovDist = compute_average_dist(respRandomCovs, manifold)\n",
    "respPCACovDist = compute_average_dist(pcaCovs, manifold)\n",
    "# Put distances into list for tidier plotting\n",
    "distancesList = [respCovDist, respRandomCovDist, respPCACovDist]\n",
    "ymaxDist = np.max(distancesList)"
   ]
  },
  {
   "cell_type": "code",
   "execution_count": null,
   "id": "eae2a5cc",
   "metadata": {
    "collapsed": false
   },
   "outputs": [],
   "source": [
    "### Compute angles between classes\n",
    "# Ama filter responses\n",
    "respCovAng = compute_angles(respCovs, manifold)\n",
    "# Random filter responses\n",
    "respRandomCovAng = compute_angles(respRandomCovs, manifold)\n",
    "# PCA filter responses\n",
    "respPCACovAng = compute_angles(pcaCovs, manifold)\n",
    "# Put angles into list for tidier plotting\n",
    "anglesList = [respCovAng, respRandomCovAng, respPCACovAng]"
   ]
  },
  {
   "cell_type": "code",
   "execution_count": null,
   "id": "1aa115ad",
   "metadata": {
    "collapsed": false
   },
   "outputs": [],
   "source": [
    "### PLOT FILTERS\n",
    "nModels = len(namesList)\n",
    "x = np.linspace(start=-30, stop=30, num=nPixels) # x axis in arc min\n",
    "for n in range(nModels):\n",
    "    for nf in range(nFilt):\n",
    "        fPlot = fList[n]\n",
    "        plt.subplot(nFilt, nModels, n+1+nModels*nf)\n",
    "        titleStr = namesList[n]\n",
    "        if (nf>0):\n",
    "            titleStr = ''\n",
    "        view_filters_bino(f=fPlot[nf,:], x=x, title=titleStr)\n",
    "        plt.yticks([])\n",
    "        plt.xlabel('Visual field (arcmin)')\n",
    "\n",
    "plt.show()"
   ]
  },
  {
   "cell_type": "code",
   "execution_count": null,
   "id": "aa17d640",
   "metadata": {
    "collapsed": false
   },
   "outputs": [],
   "source": [
    "### PLOT RESULTS \n",
    "disparities = ctgVal[1:-1]\n",
    "# Plot distances\n",
    "for n in range(nModels):\n",
    "    plt.subplot(2,3,n+1)\n",
    "    plt.title(namesList[n]) \n",
    "    if (n==0):\n",
    "        plt.ylabel('Distance between classes')\n",
    "    else:\n",
    "        plt.yticks([])\n",
    "    plt.plot(disparities, distancesList[n])\n",
    "    plt.ylim([0, ymaxDist*1.1])\n",
    "    plt.subplot(2,3,n+4)\n",
    "    if (n==0):\n",
    "        plt.ylabel('Angle between classes')\n",
    "    else:\n",
    "        plt.yticks([])\n",
    "    plt.plot(disparities, anglesList[n])\n",
    "    plt.ylim(0, 90)\n",
    "    plt.xlabel('Disparity (arcmin)')\n",
    "\n",
    "plt.show()"
   ]
  },
  {
   "cell_type": "code",
   "execution_count": null,
   "id": "3c15e6f1",
   "metadata": {
    "collapsed": false
   },
   "outputs": [],
   "source": [
    "from sklearn.manifold import Isomap\n",
    "\n",
    "# Define function to compute matrix of pairwise distances\n",
    "def compute_dist_matrix(inputMat, inputMan):\n",
    "    nClasses = inputMat.shape[0]\n",
    "    distMat = np.zeros((nClasses, nClasses))\n",
    "    for c in range(nClasses):\n",
    "        point1 = inputMat[c,:,:]\n",
    "        for d in range(nClasses):\n",
    "            point2 = inputMat[d,:,:]\n",
    "            distMat[c,d] = inputMan.dist(point1, point2)\n",
    "    # make matrix symmetric, taking largest distance in unmatched points\n",
    "    distMat = np.maximum(distMat, distMat.transpose())\n",
    "    return distMat\n",
    "\n",
    "# Get pairwise distance matrix for trained filter responses\n",
    "distMatResp = compute_dist_matrix(respCovs, manifold)\n",
    "distMatRand = compute_dist_matrix(respRandomCovs, manifold)\n",
    "distMatPCA = compute_dist_matrix(pcaCovs, manifold)\n",
    "distMatList = [distMatResp, distMatRand, distMatPCA] # put into list for nicer code\n",
    "\n",
    "# Plot distance matrices\n",
    "for n in range(nModels):\n",
    "    plt.subplot(1,nModels,n+1)\n",
    "    plt.title(namesList[n]) \n",
    "    plt.imshow(distMatList[n], zorder=2, cmap='Blues', interpolation='nearest')\n",
    "    plt.colorbar();\n",
    "plt.show()\n",
    "\n",
    "isomap_model = Isomap(n_neighbors=5, n_components=2, metric='precomputed')\n",
    "out = [None] * nModels\n",
    "for n in range(nModels):\n",
    "    out[n] = isomap_model.fit_transform(distMatList[n])\n",
    "    plt.subplot(1,nModels,n+1)\n",
    "    plt.title(namesList[n]) \n",
    "    plt.scatter(out[n][:,0], out[n][:,1], c=amaPy.ctgVal)\n",
    "    if (n==(nModels-1)):\n",
    "        plt.colorbar();\n",
    "    plt.axis('equal');\n",
    "plt.show()\n",
    "\n",
    "## Look into geometries of geomstats. Information geometry\n",
    "#from geomstats.information_geometry.normal import NormalDistributions\n",
    "#import geomstats"
   ]
  }
 ],
 "metadata": {},
 "nbformat": 4,
 "nbformat_minor": 5
}
