{
 "cells": [
  {
   "cell_type": "markdown",
   "id": "4e4b36ba",
   "metadata": {},
   "source": [
    "#Disparity estimation and filter training in pairs\n",
    "\n",
    "Train AMA on the task of disparity estimation. Train two\n",
    "pairs of filters, one after the other (first the model\n",
    "with 2 filters, and then the model with 4 filters)"
   ]
  },
  {
   "cell_type": "code",
   "execution_count": null,
   "id": "8f18418f",
   "metadata": {
    "collapsed": false
   },
   "outputs": [],
   "source": [
    "##############\n",
    "#### IMPORT PACKAGES\n",
    "##############\n",
    "import scipy.io as spio\n",
    "import numpy as np\n",
    "import torch\n",
    "import matplotlib.pyplot as plt\n",
    "from torch.utils.data import TensorDataset, DataLoader"
   ]
  },
  {
   "cell_type": "code",
   "execution_count": null,
   "id": "becd4a74",
   "metadata": {
    "collapsed": false
   },
   "outputs": [],
   "source": [
    "!pip install geotorch\n",
    "import geotorch\n",
    "!pip install git+https://github.com/dherrera1911/accuracy_maximization_analysis.git\n",
    "from ama_library import *\n",
    "!mkdir data\n",
    "!wget -O ./data/ama_dsp_noiseless.mat https://www.dropbox.com/s/eec1917swc124qd/ama_dsp_noiseless.mat?dl=0"
   ]
  },
  {
   "cell_type": "code",
   "execution_count": null,
   "id": "9bd06b21",
   "metadata": {
    "collapsed": false
   },
   "outputs": [],
   "source": [
    "import ama_library.ama_class as cl\n",
    "import ama_library.utilities as au"
   ]
  },
  {
   "cell_type": "code",
   "execution_count": null,
   "id": "460a34cc",
   "metadata": {
    "collapsed": false
   },
   "outputs": [],
   "source": [
    "##############\n",
    "#### LOAD AMA DATA\n",
    "##############\n",
    "# Load ama struct from .mat file into Python\n",
    "data = spio.loadmat('./data/ama_dsp_noiseless.mat')\n",
    "# Extract contrast normalized, noisy stimulus\n",
    "s = data.get(\"s\")\n",
    "s = torch.from_numpy(s)\n",
    "s = s.transpose(0,1)\n",
    "s = s.float()\n",
    "# Extract the vector indicating category of each stimulus row\n",
    "ctgInd = data.get(\"ctgInd\")\n",
    "ctgInd = torch.tensor(ctgInd)\n",
    "ctgInd = ctgInd.flatten()\n",
    "ctgInd = ctgInd-1       # convert to python indexing (subtract 1)\n",
    "ctgInd = ctgInd.type(torch.LongTensor)  # convert to torch integer\n",
    "# Extract the values of the latent variable\n",
    "ctgVal = data.get(\"X\")\n",
    "ctgVal = torch.from_numpy(ctgVal)\n",
    "ctgVal = ctgVal.flatten().float()\n",
    "nPixels = int(s.shape[1]/2)"
   ]
  },
  {
   "cell_type": "markdown",
   "id": "3824d121",
   "metadata": {},
   "source": [
    "## TRAINING 2 PAIRS OF FILTERS WITHOUT FIXING ANY\n",
    "\n",
    "In this part of the code, we train the model with 2 filters,\n",
    "then add 2 new random filters, and continue training the\n",
    "4 filters together. We want to see whether the first 2 filters\n",
    "remain fixed through the second round of training."
   ]
  },
  {
   "cell_type": "code",
   "execution_count": null,
   "id": "973946cf",
   "metadata": {
    "collapsed": false
   },
   "outputs": [],
   "source": [
    "##############\n",
    "#### SET TRAINING PARAMETERS FOR FIRST PAIR OF FILTERS\n",
    "##############\n",
    "nFilt = 2   # Number of filters to use\n",
    "pixelNoiseVar = 0.001  # Input pixel noise variance\n",
    "respNoiseVar = 0.003  # Filter response noise variance\n",
    "nEpochs = 30\n",
    "lrGamma = 0.5   # multiplication factor for lr decay\n",
    "lossFun = au.cross_entropy_loss()\n",
    "#lossFun = au.kl_loss()\n",
    "learningRate = 0.01\n",
    "lrStepSize = 10\n",
    "batchSize = 256"
   ]
  },
  {
   "cell_type": "code",
   "execution_count": null,
   "id": "7f863c6b",
   "metadata": {
    "collapsed": false
   },
   "outputs": [],
   "source": [
    "##############\n",
    "####  TRAIN FIRST PAIR OF FILTERS\n",
    "##############\n",
    "# Define model\n",
    "ama = cl.Isotropic(sAll=s, ctgInd=ctgInd, nFilt=nFilt,\n",
    "        respNoiseVar=respNoiseVar, pixelVar=pixelNoiseVar, ctgVal=ctgVal, \n",
    "        filtNorm='broadband', respCovPooling='pre-filter')\n",
    "\n",
    "# Put data into Torch data loader tools\n",
    "trainDataset = TensorDataset(s, ctgInd)\n",
    "# Batch loading and other utilities \n",
    "trainDataLoader = DataLoader(trainDataset, batch_size=batchSize,\n",
    "        shuffle=True)\n",
    "# Set up optimizer\n",
    "opt = torch.optim.Adam(ama.parameters(), lr=learningRate)  # Adam\n",
    "# Make learning rate scheduler\n",
    "scheduler = torch.optim.lr_scheduler.StepLR(opt, step_size=lrStepSize,\n",
    "        gamma=lrGamma)"
   ]
  },
  {
   "cell_type": "code",
   "execution_count": null,
   "id": "1a3be0f0",
   "metadata": {
    "collapsed": false
   },
   "outputs": [],
   "source": [
    "# fit model\n",
    "loss, elapsedTimes = au.fit(nEpochs=nEpochs, model=ama,\n",
    "        trainDataLoader=trainDataLoader, lossFun=lossFun, opt=opt,\n",
    "        sAll=s, ctgInd=ctgInd, scheduler=scheduler)\n",
    "plt.plot(elapsedTimes, loss)\n",
    "plt.show()"
   ]
  },
  {
   "cell_type": "code",
   "execution_count": null,
   "id": "c664cbc6",
   "metadata": {
    "collapsed": false
   },
   "outputs": [],
   "source": [
    "## PLOT THE LEARNED FILTERS\n",
    "x = np.linspace(start=-30, stop=30, num=ama.nDim) # x axis in arc min\n",
    "au.view_all_filters_1D_bino_image(ama, x=x)\n",
    "plt.show()"
   ]
  },
  {
   "cell_type": "code",
   "execution_count": null,
   "id": "3fb1ea8b",
   "metadata": {
    "collapsed": false
   },
   "outputs": [],
   "source": [
    "## ADD 2 NEW FILTERS\n",
    "ama.add_new_filters(nFiltNew=2, sAll=s, ctgInd=ctgInd)\n",
    "\n",
    "# Plot the set of 4 filters before re-training\n",
    "au.view_all_filters_1D_bino_image(ama, x=x)\n",
    "plt.show()"
   ]
  },
  {
   "cell_type": "code",
   "execution_count": null,
   "id": "1662c3ad",
   "metadata": {
    "collapsed": false
   },
   "outputs": [],
   "source": [
    "## TRAIN THE NEW FILTERS TOGETHER WITH ORIGINAL\n",
    "learningRate2 = learningRate * 1/3\n",
    "nEpochs2 = 30\n",
    "# Re-initializing the optimizer after adding filters is required\n",
    "opt = torch.optim.Adam(ama.parameters(), lr=learningRate2)  # Adam\n",
    "scheduler = torch.optim.lr_scheduler.StepLR(opt, step_size=lrStepSize,\n",
    "        gamma=lrGamma)\n",
    "loss, elapsedTimes = au.fit(nEpochs=nEpochs2, model=ama,\n",
    "        trainDataLoader=trainDataLoader, lossFun=lossFun, opt=opt,\n",
    "        sAll=s, ctgInd=ctgInd, scheduler=scheduler)\n",
    "plt.plot(elapsedTimes, loss)\n",
    "plt.show()\n",
    "\n",
    "# Plot filters after learning\n",
    "au.view_all_filters_1D_bino_image(ama, x=x)\n",
    "plt.show()"
   ]
  },
  {
   "cell_type": "markdown",
   "id": "eb58aafb",
   "metadata": {},
   "source": [
    "## TRAINING 2 PAIRS OF FILTERS, FIXING THE FIRST PAIR\n",
    "\n",
    "In this part of the code, we train the model with 2 filters,\n",
    "fix these filters so that they are no longer trainable, add\n",
    "2 more filters, and then train these 2 new filters on top of\n",
    "the original fixed ones. We aim to see how this procedure compares\n",
    "to the training of different filters without fixing."
   ]
  },
  {
   "cell_type": "code",
   "execution_count": null,
   "id": "35d46a7a",
   "metadata": {
    "collapsed": false
   },
   "outputs": [],
   "source": [
    "# DEFINE NEW MODEL TO TRAIN\n",
    "ama2 = cl.Isotropic(sAll=s, ctgInd=ctgInd, nFilt=nFilt,\n",
    "        respNoiseVar=respNoiseVar, pixelVar=pixelNoiseVar, ctgVal=ctgVal, \n",
    "        filtNorm='broadband', respCovPooling='pre-filter')"
   ]
  },
  {
   "cell_type": "code",
   "execution_count": null,
   "id": "d87fab41",
   "metadata": {
    "collapsed": false
   },
   "outputs": [],
   "source": [
    "# SET PARAMETERS FOR TRAINING THE FILTERS. INITIALIZE OPTIMIZER\n",
    "nEpochs = 40\n",
    "lrGamma = 0.5   # multiplication factor for lr decay\n",
    "learningRate = 0.01\n",
    "lrStepSize = 10\n",
    "batchSize = 256\n",
    "# Set up optimizer\n",
    "opt = torch.optim.Adam(ama2.parameters(), lr=learningRate)  # Adam\n",
    "# Make learning rate scheduler\n",
    "scheduler = torch.optim.lr_scheduler.StepLR(opt, step_size=lrStepSize,\n",
    "        gamma=lrGamma)"
   ]
  },
  {
   "cell_type": "code",
   "execution_count": null,
   "id": "b97615b5",
   "metadata": {
    "collapsed": false
   },
   "outputs": [],
   "source": [
    "# FIT MODEL\n",
    "loss, elapsedTimes = au.fit(nEpochs=nEpochs, model=ama2,\n",
    "        trainDataLoader=trainDataLoader, lossFun=lossFun, opt=opt,\n",
    "        sAll=s, ctgInd=ctgInd, scheduler=scheduler)\n",
    "plt.plot(elapsedTimes, loss)\n",
    "plt.show()\n",
    "\n",
    "au.view_all_filters_1D_bino_image(ama2, x)\n",
    "plt.show()"
   ]
  },
  {
   "cell_type": "code",
   "execution_count": null,
   "id": "3933ef8c",
   "metadata": {
    "collapsed": false
   },
   "outputs": [],
   "source": [
    "# ADD FIXED FILTERS\n",
    "# Fix the learned filters in place\n",
    "ama2.move_trainable_2_fixed(sAll=s, ctgInd=ctgInd)\n",
    "# View current filters\n",
    "au.view_all_filters_1D_bino_image(ama2, x)\n",
    "plt.show()"
   ]
  },
  {
   "cell_type": "code",
   "execution_count": null,
   "id": "5400dd81",
   "metadata": {
    "collapsed": false
   },
   "outputs": [],
   "source": [
    "# TRAIN THE NEW FILTERS WITH THE OLD FILTERS FIXED IN PLACE\n",
    "# Set up optimizer\n",
    "opt = torch.optim.Adam(ama2.parameters(), lr=learningRate)  # Adam\n",
    "# Make learning rate scheduler\n",
    "scheduler = torch.optim.lr_scheduler.StepLR(opt, step_size=lrStepSize,\n",
    "        gamma=lrGamma)\n",
    "# fit model\n",
    "loss, elapsedTimes = au.fit(nEpochs=nEpochs, model=ama2,\n",
    "        trainDataLoader=trainDataLoader, lossFun=lossFun, opt=opt,\n",
    "        sAll=s, ctgInd=ctgInd, scheduler=scheduler)\n",
    "plt.plot(elapsedTimes, loss)\n",
    "plt.show()\n",
    "au.view_all_filters_1D_bino_image(ama2)\n",
    "plt.show()"
   ]
  },
  {
   "cell_type": "code",
   "execution_count": null,
   "id": "d030571d",
   "metadata": {
    "collapsed": false
   },
   "outputs": [],
   "source": [
    "# USE FUNCTION THAT TRAINS AMA FILTERS BY PAIRS\n",
    "nPairs = 4\n",
    "# We need to define a function that returns optimizers, because\n",
    "# a new optimizer has to be generated each time we manually change\n",
    "# the model parameters\n",
    "def opt_fun(model):\n",
    "    return torch.optim.Adam(model.parameters(), lr=learningRate)\n",
    "# We need to define a function that returns schedulers, because a\n",
    "# new one has to be defined for each new optimizer\n",
    "def scheduler_fun(opt):\n",
    "    return torch.optim.lr_scheduler.StepLR(opt, step_size=lrStepSize, gamma=lrGamma)\n",
    "\n",
    "# Initialize model to train\n",
    "ama3 = cl.Isotropic(sAll=s, ctgInd=ctgInd, nFilt=nFilt,\n",
    "        respNoiseVar=respNoiseVar, pixelVar=pixelNoiseVar, ctgVal=ctgVal, \n",
    "        filtNorm='broadband', respCovPooling='pre-filter')"
   ]
  },
  {
   "cell_type": "code",
   "execution_count": null,
   "id": "f5b6fb8d",
   "metadata": {
    "collapsed": false
   },
   "outputs": [],
   "source": [
    "# Train model by pairs\n",
    "loss3, elapsedTimes3 = au.fit_by_pairs(nEpochs=nEpochs, model=ama3,\n",
    "        trainDataLoader=trainDataLoader, lossFun=lossFun, opt_fun=opt_fun,\n",
    "        nPairs=nPairs, sAll=s, ctgInd=ctgInd, scheduler_fun=scheduler_fun)"
   ]
  },
  {
   "cell_type": "code",
   "execution_count": null,
   "id": "11c6fb96",
   "metadata": {
    "collapsed": false
   },
   "outputs": [],
   "source": [
    "# Visualize trained filters\n",
    "au.view_all_filters_1D_bino_image(ama3)\n",
    "plt.show()"
   ]
  },
  {
   "cell_type": "code",
   "execution_count": null,
   "id": "ce8c3730",
   "metadata": {
    "collapsed": false
   },
   "outputs": [],
   "source": [
    "# View the training loss curves for the learned filters\n",
    "for l in range(nPairs):\n",
    "    plt.subplot(1, nPairs, l+1)\n",
    "    plt.plot(elapsedTimes3[l], loss3[l])\n",
    "plt.show()"
   ]
  }
 ],
 "metadata": {},
 "nbformat": 4,
 "nbformat_minor": 5
}
