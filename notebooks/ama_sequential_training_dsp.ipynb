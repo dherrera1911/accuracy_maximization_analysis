{
 "cells": [
  {
   "cell_type": "markdown",
   "id": "e929c863",
   "metadata": {},
   "source": [
    "#Disparity estimation and filter training in pairs\n",
    "\n",
    "Train AMA on the task of disparity estimation. Train two\n",
    "pairs of filters, one after the other (first the model\n",
    "with 2 filters, and then the model with 4 filters)"
   ]
  },
  {
   "cell_type": "code",
   "execution_count": 1,
   "id": "4af62782",
   "metadata": {},
   "outputs": [],
   "source": [
    "##############\n",
    "#### IMPORT PACKAGES\n",
    "##############\n",
    "import scipy.io as spio\n",
    "import numpy as np\n",
    "import torch\n",
    "import matplotlib.pyplot as plt\n",
    "from torch.utils.data import TensorDataset, DataLoader"
   ]
  },
  {
   "cell_type": "code",
   "execution_count": 2,
   "id": "381607fc",
   "metadata": {},
   "outputs": [
    {
     "name": "stdout",
     "output_type": "stream",
     "text": [
      "Requirement already satisfied: geotorch in /home/daniel/anaconda3/envs/my-torch/lib/python3.10/site-packages (0.3.0)\n",
      "Requirement already satisfied: torch>=1.9 in /home/daniel/anaconda3/envs/my-torch/lib/python3.10/site-packages (from geotorch) (1.12.1)\n",
      "Requirement already satisfied: typing_extensions in /home/daniel/anaconda3/envs/my-torch/lib/python3.10/site-packages (from torch>=1.9->geotorch) (4.1.1)\n",
      "Collecting git+https://github.com/dherrera1911/accuracy_maximization_analysis.git\n",
      "  Cloning https://github.com/dherrera1911/accuracy_maximization_analysis.git to /tmp/pip-req-build-d72j1ihp\n",
      "  Running command git clone --filter=blob:none --quiet https://github.com/dherrera1911/accuracy_maximization_analysis.git /tmp/pip-req-build-d72j1ihp\n",
      "  Resolved https://github.com/dherrera1911/accuracy_maximization_analysis.git to commit 7c076e526fc5d4595e1e8ad8e57f2af04516b527\n",
      "  Preparing metadata (setup.py) ... \u001b[?25ldone\n",
      "\u001b[?25hRequirement already satisfied: numpy in /home/daniel/anaconda3/envs/my-torch/lib/python3.10/site-packages (from AMA==0.1) (1.23.5)\n",
      "Requirement already satisfied: torch in /home/daniel/anaconda3/envs/my-torch/lib/python3.10/site-packages (from AMA==0.1) (1.12.1)\n",
      "Requirement already satisfied: matplotlib in /home/daniel/anaconda3/envs/my-torch/lib/python3.10/site-packages (from AMA==0.1) (3.6.2)\n",
      "Requirement already satisfied: cycler>=0.10 in /home/daniel/anaconda3/envs/my-torch/lib/python3.10/site-packages (from matplotlib->AMA==0.1) (0.11.0)\n",
      "Requirement already satisfied: pyparsing>=2.2.1 in /home/daniel/anaconda3/envs/my-torch/lib/python3.10/site-packages (from matplotlib->AMA==0.1) (3.0.4)\n",
      "Requirement already satisfied: packaging>=20.0 in /home/daniel/anaconda3/envs/my-torch/lib/python3.10/site-packages (from matplotlib->AMA==0.1) (22.0)\n",
      "Requirement already satisfied: python-dateutil>=2.7 in /home/daniel/anaconda3/envs/my-torch/lib/python3.10/site-packages (from matplotlib->AMA==0.1) (2.8.2)\n",
      "Requirement already satisfied: contourpy>=1.0.1 in /home/daniel/anaconda3/envs/my-torch/lib/python3.10/site-packages (from matplotlib->AMA==0.1) (1.0.5)\n",
      "Requirement already satisfied: pillow>=6.2.0 in /home/daniel/anaconda3/envs/my-torch/lib/python3.10/site-packages (from matplotlib->AMA==0.1) (9.3.0)\n",
      "Requirement already satisfied: fonttools>=4.22.0 in /home/daniel/anaconda3/envs/my-torch/lib/python3.10/site-packages (from matplotlib->AMA==0.1) (4.25.0)\n",
      "Requirement already satisfied: kiwisolver>=1.0.1 in /home/daniel/anaconda3/envs/my-torch/lib/python3.10/site-packages (from matplotlib->AMA==0.1) (1.4.4)\n",
      "Requirement already satisfied: typing_extensions in /home/daniel/anaconda3/envs/my-torch/lib/python3.10/site-packages (from torch->AMA==0.1) (4.1.1)\n",
      "Requirement already satisfied: six>=1.5 in /home/daniel/anaconda3/envs/my-torch/lib/python3.10/site-packages (from python-dateutil>=2.7->matplotlib->AMA==0.1) (1.16.0)\n",
      "Building wheels for collected packages: AMA\n",
      "  Building wheel for AMA (setup.py) ... \u001b[?25ldone\n",
      "\u001b[?25h  Created wheel for AMA: filename=AMA-0.1-py3-none-any.whl size=17406 sha256=477a3fc23a10ca7564d7d8e833542d3921f828250069c29027efe2b55e1c494e\n",
      "  Stored in directory: /tmp/pip-ephem-wheel-cache-t4lbwmmu/wheels/29/03/b4/9cdd2264f87eabb776eb11a200ff32f560a7b6a6d472cd5147\n",
      "Successfully built AMA\n",
      "Installing collected packages: AMA\n",
      "Successfully installed AMA-0.1\n",
      "--2023-04-10 22:03:16--  https://www.dropbox.com/s/eec1917swc124qd/ama_dsp_noiseless.mat?dl=0\n",
      "Resolving www.dropbox.com (www.dropbox.com)... 2620:100:6019:18::a27d:412, 162.125.4.18\n",
      "Connecting to www.dropbox.com (www.dropbox.com)|2620:100:6019:18::a27d:412|:443... connected.\n",
      "HTTP request sent, awaiting response... 302 Found\n",
      "Location: /s/raw/eec1917swc124qd/ama_dsp_noiseless.mat [following]\n",
      "--2023-04-10 22:03:17--  https://www.dropbox.com/s/raw/eec1917swc124qd/ama_dsp_noiseless.mat\n",
      "Reusing existing connection to [www.dropbox.com]:443.\n",
      "HTTP request sent, awaiting response... 302 Found\n",
      "Location: https://uc3d74be167d6c32bbcdb37ce3a2.dl.dropboxusercontent.com/cd/0/inline/B5-FYRout5Ppn1963zOq7gb4eiqHJI1w4dRKFIERjePuYeIPSg6zLBw8SzlF6VZDAJqeWrosfrXbzvOJGNL8xWB_qUlLmEZQgLKBgMqC-znZzZ6GZ49ZZeILDLovD034oVSKXgzetuWvF3QFd7oDrn9AfnfiW1bAIHuGYWECZWzc2Q/file# [following]\n",
      "--2023-04-10 22:03:17--  https://uc3d74be167d6c32bbcdb37ce3a2.dl.dropboxusercontent.com/cd/0/inline/B5-FYRout5Ppn1963zOq7gb4eiqHJI1w4dRKFIERjePuYeIPSg6zLBw8SzlF6VZDAJqeWrosfrXbzvOJGNL8xWB_qUlLmEZQgLKBgMqC-znZzZ6GZ49ZZeILDLovD034oVSKXgzetuWvF3QFd7oDrn9AfnfiW1bAIHuGYWECZWzc2Q/file\n",
      "Resolving uc3d74be167d6c32bbcdb37ce3a2.dl.dropboxusercontent.com (uc3d74be167d6c32bbcdb37ce3a2.dl.dropboxusercontent.com)... 2620:100:6019:15::a27d:40f, 162.125.4.15\n",
      "Connecting to uc3d74be167d6c32bbcdb37ce3a2.dl.dropboxusercontent.com (uc3d74be167d6c32bbcdb37ce3a2.dl.dropboxusercontent.com)|2620:100:6019:15::a27d:40f|:443... connected.\n",
      "HTTP request sent, awaiting response... 200 OK\n",
      "Length: 3961960 (3,8M) [text/plain]\n",
      "Saving to: ‘./data/ama_dsp_noiseless.mat’\n",
      "\n",
      "./data/ama_dsp_nois 100%[===================>]   3,78M  89,9KB/s    in 37s     \n",
      "\n",
      "2023-04-10 22:03:56 (104 KB/s) - ‘./data/ama_dsp_noiseless.mat’ saved [3961960/3961960]\n",
      "\n"
     ]
    }
   ],
   "source": [
    "!pip install geotorch\n",
    "import geotorch\n",
    "!pip install git+https://github.com/dherrera1911/accuracy_maximization_analysis.git\n",
    "from ama_library import *\n",
    "!mkdir data\n",
    "!wget -O ./data/ama_dsp_noiseless.mat https://www.dropbox.com/s/eec1917swc124qd/ama_dsp_noiseless.mat?dl=0"
   ]
  },
  {
   "cell_type": "code",
   "execution_count": 3,
   "id": "b3d40df5",
   "metadata": {},
   "outputs": [],
   "source": [
    "import ama_library.ama_class as cl\n",
    "import ama_library.utilities as au"
   ]
  },
  {
   "cell_type": "code",
   "execution_count": 4,
   "id": "39284464",
   "metadata": {},
   "outputs": [],
   "source": [
    "##############\n",
    "#### LOAD AMA DATA\n",
    "##############\n",
    "# Load ama struct from .mat file into Python\n",
    "data = spio.loadmat('./data/ama_dsp_noiseless.mat')\n",
    "# Extract contrast normalized, noisy stimulus\n",
    "s = data.get(\"s\")\n",
    "s = torch.from_numpy(s)\n",
    "s = s.transpose(0,1)\n",
    "s = s.float()\n",
    "# Extract the vector indicating category of each stimulus row\n",
    "ctgInd = data.get(\"ctgInd\")\n",
    "ctgInd = torch.tensor(ctgInd)\n",
    "ctgInd = ctgInd.flatten()\n",
    "ctgInd = ctgInd-1       # convert to python indexing (subtract 1)\n",
    "ctgInd = ctgInd.type(torch.LongTensor)  # convert to torch integer\n",
    "# Extract the values of the latent variable\n",
    "ctgVal = data.get(\"X\")\n",
    "ctgVal = torch.from_numpy(ctgVal)\n",
    "ctgVal = ctgVal.flatten().float()\n",
    "nPixels = int(s.shape[1]/2)"
   ]
  },
  {
   "cell_type": "markdown",
   "id": "ce9c8f73",
   "metadata": {},
   "source": [
    "## TRAINING 2 PAIRS OF FILTERS WITHOUT FIXING ANY\n",
    "\n",
    "In this part of the code, we train the model with 2 filters,\n",
    "then add 2 new random filters, and continue training the\n",
    "4 filters together. We want to see whether the first 2 filters\n",
    "remain fixed through the second round of training."
   ]
  },
  {
   "cell_type": "code",
   "execution_count": 5,
   "id": "31606a09",
   "metadata": {},
   "outputs": [],
   "source": [
    "##############\n",
    "#### SET TRAINING PARAMETERS FOR FIRST PAIR OF FILTERS\n",
    "##############\n",
    "nFilt = 2   # Number of filters to use\n",
    "pixelNoiseVar = 0.001  # Input pixel noise variance\n",
    "respNoiseVar = 0.003  # Filter response noise variance\n",
    "nEpochs = 30\n",
    "lrGamma = 0.5   # multiplication factor for lr decay\n",
    "lossFun = au.cross_entropy_loss()\n",
    "#lossFun = au.kl_loss()\n",
    "learningRate = 0.01\n",
    "lrStepSize = 10\n",
    "batchSize = 256"
   ]
  },
  {
   "cell_type": "code",
   "execution_count": 6,
   "id": "613d379b",
   "metadata": {},
   "outputs": [],
   "source": [
    "##############\n",
    "####  TRAIN FIRST PAIR OF FILTERS\n",
    "##############\n",
    "# Define model\n",
    "ama = cl.AMA(sAll=s, nFilt=nFilt, ctgInd=ctgInd, respNoiseVar=respNoiseVar,\n",
    "        pixelCov=pixelNoiseVar, ctgVal=ctgVal, respCovPooling='pre-filter',\n",
    "        filtNorm='broadband')\n",
    "\n",
    "# Put data into Torch data loader tools\n",
    "trainDataset = TensorDataset(s, ctgInd)\n",
    "# Batch loading and other utilities \n",
    "trainDataLoader = DataLoader(trainDataset, batch_size=batchSize,\n",
    "        shuffle=True)\n",
    "# Set up optimizer\n",
    "opt = torch.optim.Adam(ama.parameters(), lr=learningRate)  # Adam\n",
    "# Make learning rate scheduler\n",
    "scheduler = torch.optim.lr_scheduler.StepLR(opt, step_size=lrStepSize,\n",
    "        gamma=lrGamma)"
   ]
  },
  {
   "cell_type": "code",
   "execution_count": 7,
   "id": "f71302fa",
   "metadata": {},
   "outputs": [
    {
     "name": "stdout",
     "output_type": "stream",
     "text": [
      "Initial loss:  2.941462278366089\n",
      "Epoch: 1 |  Training loss: 2.8853  |  Loss change: -0.0562\n",
      "Epoch: 2 |  Training loss: 2.8838  |  Loss change: -0.0015\n",
      "Epoch: 3 |  Training loss: 2.8846  |  Loss change: 0.0007\n",
      "Epoch: 4 |  Training loss: 2.8843  |  Loss change: -0.0003\n",
      "Epoch: 5 |  Training loss: 2.8841  |  Loss change: -0.0002\n",
      "Epoch: 6 |  Training loss: 2.8838  |  Loss change: -0.0003\n",
      "Epoch: 7 |  Training loss: 2.8843  |  Loss change: 0.0006\n",
      "Epoch: 8 |  Training loss: 2.8839  |  Loss change: -0.0004\n",
      "Epoch: 9 |  Training loss: 2.8842  |  Loss change: 0.0002\n",
      "Epoch: 10 |  Training loss: 2.8842  |  Loss change: 0.0000\n",
      "Epoch: 11 |  Training loss: 2.8838  |  Loss change: -0.0004\n",
      "Epoch: 12 |  Training loss: 2.8839  |  Loss change: 0.0001\n",
      "Epoch: 13 |  Training loss: 2.8843  |  Loss change: 0.0004\n",
      "Epoch: 14 |  Training loss: 2.8835  |  Loss change: -0.0008\n",
      "Epoch: 15 |  Training loss: 2.8839  |  Loss change: 0.0003\n",
      "Epoch: 16 |  Training loss: 2.8835  |  Loss change: -0.0004\n",
      "Epoch: 17 |  Training loss: 2.8837  |  Loss change: 0.0002\n",
      "Epoch: 18 |  Training loss: 2.8836  |  Loss change: -0.0001\n",
      "Epoch: 19 |  Training loss: 2.8840  |  Loss change: 0.0004\n",
      "Epoch: 20 |  Training loss: 2.8834  |  Loss change: -0.0007\n",
      "Epoch: 21 |  Training loss: 2.8830  |  Loss change: -0.0004\n",
      "Epoch: 22 |  Training loss: 2.8835  |  Loss change: 0.0005\n",
      "Epoch: 23 |  Training loss: 2.8824  |  Loss change: -0.0011\n",
      "Epoch: 24 |  Training loss: 2.8835  |  Loss change: 0.0011\n",
      "Epoch: 25 |  Training loss: 2.8835  |  Loss change: -0.0001\n",
      "Epoch: 26 |  Training loss: 2.8843  |  Loss change: 0.0008\n",
      "Epoch: 27 |  Training loss: 2.8835  |  Loss change: -0.0007\n",
      "Epoch: 28 |  Training loss: 2.8837  |  Loss change: 0.0001\n",
      "Epoch: 29 |  Training loss: 2.8838  |  Loss change: 0.0002\n",
      "Epoch: 30 |  Training loss: 2.8839  |  Loss change: 0.0001\n"
     ]
    },
    {
     "data": {
      "image/png": "[encoded data removed]",
      "text/plain": [
       "<Figure size 640x480 with 1 Axes>"
      ]
     },
     "metadata": {},
     "output_type": "display_data"
    }
   ],
   "source": [
    "# fit model\n",
    "loss, elapsedTimes = au.fit(nEpochs=nEpochs, model=ama,\n",
    "        trainDataLoader=trainDataLoader, lossFun=lossFun, opt=opt,\n",
    "        sAll=s, ctgInd=ctgInd, scheduler=scheduler)\n",
    "plt.plot(elapsedTimes, loss)\n",
    "plt.show()"
   ]
  },
  {
   "cell_type": "code",
   "execution_count": 8,
   "id": "b325c7fc",
   "metadata": {},
   "outputs": [
    {
     "ename": "AttributeError",
     "evalue": "module 'ama_library.utilities' has no attribute 'view_all_filters_1D_bino_image'",
     "output_type": "error",
     "traceback": [
      "\u001b[0;31m---------------------------------------------------------------------------\u001b[0m",
      "\u001b[0;31mAttributeError\u001b[0m                            Traceback (most recent call last)",
      "Cell \u001b[0;32mIn[8], line 3\u001b[0m\n\u001b[1;32m      1\u001b[0m \u001b[38;5;66;03m## PLOT THE LEARNED FILTERS\u001b[39;00m\n\u001b[1;32m      2\u001b[0m x \u001b[38;5;241m=\u001b[39m np\u001b[38;5;241m.\u001b[39mlinspace(start\u001b[38;5;241m=\u001b[39m\u001b[38;5;241m-\u001b[39m\u001b[38;5;241m30\u001b[39m, stop\u001b[38;5;241m=\u001b[39m\u001b[38;5;241m30\u001b[39m, num\u001b[38;5;241m=\u001b[39mama\u001b[38;5;241m.\u001b[39mnDim) \u001b[38;5;66;03m# x axis in arc min\u001b[39;00m\n\u001b[0;32m----> 3\u001b[0m \u001b[43mau\u001b[49m\u001b[38;5;241;43m.\u001b[39;49m\u001b[43mview_all_filters_1D_bino_image\u001b[49m(ama, x\u001b[38;5;241m=\u001b[39mx)\n\u001b[1;32m      4\u001b[0m plt\u001b[38;5;241m.\u001b[39mshow()\n",
      "\u001b[0;31mAttributeError\u001b[0m: module 'ama_library.utilities' has no attribute 'view_all_filters_1D_bino_image'"
     ]
    }
   ],
   "source": [
    "## PLOT THE LEARNED FILTERS\n",
    "x = np.linspace(start=-30, stop=30, num=ama.nDim) # x axis in arc min\n",
    "au.view_all_filters_1D_bino_image(ama, x=x)\n",
    "plt.show()"
   ]
  },
  {
   "cell_type": "code",
   "execution_count": null,
   "id": "c14f5048",
   "metadata": {},
   "outputs": [],
   "source": [
    "## ADD 2 NEW FILTERS\n",
    "ama.add_new_filters(nFiltNew=2, sAll=s, ctgInd=ctgInd)\n",
    "\n",
    "# Plot the set of 4 filters before re-training\n",
    "au.view_all_filters_1D_bino_image(ama, x=x)\n",
    "plt.show()"
   ]
  },
  {
   "cell_type": "code",
   "execution_count": null,
   "id": "0a429b09",
   "metadata": {},
   "outputs": [],
   "source": [
    "## TRAIN THE NEW FILTERS TOGETHER WITH ORIGINAL\n",
    "learningRate2 = learningRate * 1/3\n",
    "nEpochs2 = 30\n",
    "# Re-initializing the optimizer after adding filters is required\n",
    "opt = torch.optim.Adam(ama.parameters(), lr=learningRate2)  # Adam\n",
    "scheduler = torch.optim.lr_scheduler.StepLR(opt, step_size=lrStepSize,\n",
    "        gamma=lrGamma)\n",
    "loss, elapsedTimes = au.fit(nEpochs=nEpochs2, model=ama,\n",
    "        trainDataLoader=trainDataLoader, lossFun=lossFun, opt=opt,\n",
    "        sAll=s, ctgInd=ctgInd, scheduler=scheduler)\n",
    "plt.plot(elapsedTimes, loss)\n",
    "plt.show()\n",
    "\n",
    "# Plot filters after learning\n",
    "au.view_all_filters_1D_bino_image(ama, x=x)\n",
    "plt.show()"
   ]
  },
  {
   "cell_type": "markdown",
   "id": "f3bb5df3",
   "metadata": {},
   "source": [
    "## TRAINING 2 PAIRS OF FILTERS, FIXING THE FIRST PAIR\n",
    "\n",
    "In this part of the code, we train the model with 2 filters,\n",
    "fix these filters so that they are no longer trainable, add\n",
    "2 more filters, and then train these 2 new filters on top of\n",
    "the original fixed ones. We aim to see how this procedure compares\n",
    "to the training of different filters without fixing."
   ]
  },
  {
   "cell_type": "code",
   "execution_count": null,
   "id": "32042f7e",
   "metadata": {},
   "outputs": [],
   "source": [
    "# DEFINE NEW MODEL TO TRAIN\n",
    "ama2 = cl.AMA(sAll=s, nFilt=nFilt, ctgInd=ctgInd, respNoiseVar=respNoiseVar,\n",
    "        pixelCov=pixelNoiseVar, ctgVal=ctgVal, respCovPooling='pre-filter',\n",
    "        filtNorm='broadband')"
   ]
  },
  {
   "cell_type": "code",
   "execution_count": null,
   "id": "b2733ff2",
   "metadata": {},
   "outputs": [],
   "source": [
    "# SET PARAMETERS FOR TRAINING THE FILTERS. INITIALIZE OPTIMIZER\n",
    "nEpochs = 40\n",
    "lrGamma = 0.5   # multiplication factor for lr decay\n",
    "learningRate = 0.01\n",
    "lrStepSize = 10\n",
    "batchSize = 256\n",
    "# Set up optimizer\n",
    "opt = torch.optim.Adam(ama2.parameters(), lr=learningRate)  # Adam\n",
    "# Make learning rate scheduler\n",
    "scheduler = torch.optim.lr_scheduler.StepLR(opt, step_size=lrStepSize,\n",
    "        gamma=lrGamma)"
   ]
  },
  {
   "cell_type": "code",
   "execution_count": null,
   "id": "d89e83de",
   "metadata": {},
   "outputs": [],
   "source": [
    "# FIT MODEL\n",
    "loss, elapsedTimes = au.fit(nEpochs=nEpochs, model=ama2,\n",
    "        trainDataLoader=trainDataLoader, lossFun=lossFun, opt=opt,\n",
    "        sAll=s, ctgInd=ctgInd, scheduler=scheduler)\n",
    "plt.plot(elapsedTimes, loss)\n",
    "plt.show()\n",
    "\n",
    "au.view_all_filters_1D_bino_image(ama2, x)\n",
    "plt.show()"
   ]
  },
  {
   "cell_type": "code",
   "execution_count": null,
   "id": "ec052dee",
   "metadata": {},
   "outputs": [],
   "source": [
    "# ADD FIXED FILTERS\n",
    "# Fix the learned filters in place\n",
    "ama2.move_trainable_2_fixed(sAll=s, ctgInd=ctgInd)\n",
    "# View current filters\n",
    "au.view_all_filters_1D_bino_image(ama2, x)\n",
    "plt.show()"
   ]
  },
  {
   "cell_type": "code",
   "execution_count": null,
   "id": "d4348e5e",
   "metadata": {},
   "outputs": [],
   "source": [
    "# TRAIN THE NEW FILTERS WITH THE OLD FILTERS FIXED IN PLACE\n",
    "# Set up optimizer\n",
    "opt = torch.optim.Adam(ama2.parameters(), lr=learningRate)  # Adam\n",
    "# Make learning rate scheduler\n",
    "scheduler = torch.optim.lr_scheduler.StepLR(opt, step_size=lrStepSize,\n",
    "        gamma=lrGamma)\n",
    "# fit model\n",
    "loss, elapsedTimes = au.fit(nEpochs=nEpochs, model=ama2,\n",
    "        trainDataLoader=trainDataLoader, lossFun=lossFun, opt=opt,\n",
    "        sAll=s, ctgInd=ctgInd, scheduler=scheduler)\n",
    "plt.plot(elapsedTimes, loss)\n",
    "plt.show()\n",
    "au.view_all_filters_1D_bino_image(ama2)\n",
    "plt.show()"
   ]
  },
  {
   "cell_type": "code",
   "execution_count": null,
   "id": "3f680cfb",
   "metadata": {},
   "outputs": [],
   "source": [
    "# USE FUNCTION THAT TRAINS AMA FILTERS BY PAIRS\n",
    "nPairs = 4\n",
    "# We need to define a function that returns optimizers, because\n",
    "# a new optimizer has to be generated each time we manually change\n",
    "# the model parameters\n",
    "def opt_fun(model):\n",
    "    return torch.optim.Adam(model.parameters(), lr=learningRate)\n",
    "# We need to define a function that returns schedulers, because a\n",
    "# new one has to be defined for each new optimizer\n",
    "def scheduler_fun(opt):\n",
    "    return torch.optim.lr_scheduler.StepLR(opt, step_size=lrStepSize, gamma=lrGamma)\n",
    "\n",
    "# Initialize model to train\n",
    "ama3 = cl.AMA(sAll=s, nFilt=nFilt, ctgInd=ctgInd, respNoiseVar=respNoiseVar,\n",
    "        pixelCov=pixelNoiseVar, ctgVal=ctgVal, respCovPooling='pre-filter',\n",
    "        filtNorm='broadband')"
   ]
  },
  {
   "cell_type": "code",
   "execution_count": null,
   "id": "72c4b236",
   "metadata": {},
   "outputs": [],
   "source": [
    "# Train model by pairs\n",
    "loss3, elapsedTimes3 = au.fit_by_pairs(nEpochs=nEpochs, model=ama3,\n",
    "        trainDataLoader=trainDataLoader, lossFun=lossFun, opt_fun=opt_fun,\n",
    "        nPairs=nPairs, sAll=s, ctgInd=ctgInd, scheduler_fun=scheduler_fun)"
   ]
  },
  {
   "cell_type": "code",
   "execution_count": null,
   "id": "d5133f24",
   "metadata": {},
   "outputs": [],
   "source": [
    "# Visualize trained filters\n",
    "au.view_all_filters_1D_bino_image(ama3)\n",
    "plt.show()"
   ]
  },
  {
   "cell_type": "code",
   "execution_count": null,
   "id": "3dc6c6cd",
   "metadata": {},
   "outputs": [],
   "source": [
    "# View the training loss curves for the learned filters\n",
    "for l in range(nPairs):\n",
    "    plt.subplot(1, nPairs, l+1)\n",
    "    plt.plot(elapsedTimes3[l], loss3[l])\n",
    "plt.show()"
   ]
  }
 ],
 "metadata": {
  "kernelspec": {
   "display_name": "Python 3 (ipykernel)",
   "language": "python",
   "name": "python3"
  },
  "language_info": {
   "codemirror_mode": {
    "name": "ipython",
    "version": 3
   },
   "file_extension": ".py",
   "mimetype": "text/x-python",
   "name": "python",
   "nbconvert_exporter": "python",
   "pygments_lexer": "ipython3",
   "version": "3.10.9"
  }
 },
 "nbformat": 4,
 "nbformat_minor": 5
}
